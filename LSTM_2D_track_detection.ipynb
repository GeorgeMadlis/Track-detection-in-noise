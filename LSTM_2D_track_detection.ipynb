{
 "cells": [
  {
   "cell_type": "code",
   "execution_count": 2,
   "metadata": {},
   "outputs": [],
   "source": [
    "from keras.models import Sequential\n",
    "#from keras.layers import LSTM, Dense\n",
    "from keras.layers import Merge\n",
    "from keras.optimizers import SGD\n",
    "import numpy as np\n",
    "from keras import backend as K\n",
    "import matplotlib.pyplot as plt\n",
    "from matplotlib import colors\n",
    "from keras.models import model_from_json\n",
    "%matplotlib inline\n",
    "\n",
    "from keras.layers.core import Dense, Activation, RepeatVector\n",
    "from keras.layers.recurrent import LSTM\n",
    "from keras.layers.wrappers import TimeDistributed\n",
    "from keras import optimizers\n"
   ]
  },
  {
   "cell_type": "code",
   "execution_count": 3,
   "metadata": {
    "collapsed": true
   },
   "outputs": [],
   "source": [
    "def save_current_keras_model_json_hdf5(model, model_name):\n",
    "    \n",
    "    # serialize model architecture to json\n",
    "    model_json = model.to_json()\n",
    "    with open(model_name + '.json', 'w') as json_file:\n",
    "        json_file.write(model_json)\n",
    "    print('Saved model metadata to json format: ', model_name + '.json')\n",
    "\n",
    "    # serialize model weights to HDF5\n",
    "    model.save_weights(model_name + '.h5')\n",
    "    print('Saved model to h5 format: ', model_name + '.h5')\n",
    "\n",
    "def load_keras_model(model_name):\n",
    "    # inspired by:\n",
    "    # http://machinelearningmastery.com/save-load-keras-deep-learning-models/\n",
    "    # load json and create model\n",
    "    json_file = open(model_name + '.json', 'r')\n",
    "    loaded_model_json = json_file.read()\n",
    "    json_file.close()\n",
    "    loaded_model = model_from_json(loaded_model_json)\n",
    "    # load weights into new model\n",
    "    loaded_model.load_weights(model_name + '.h5')\n",
    "    print(\"Loaded model from disk\")\n",
    "    return loaded_model  "
   ]
  },
  {
   "cell_type": "code",
   "execution_count": 4,
   "metadata": {
    "collapsed": true
   },
   "outputs": [],
   "source": [
    "def spiral(theta_pi_scale, N, r0, xmax, xmin, ymin, ymax):\n",
    "    x = []\n",
    "    y = []\n",
    "    max_r = theta_pi_scale*np.pi*theta_pi_scale*np.pi + r0\n",
    "    for theta in np.linspace(0,theta_pi_scale*np.pi,N):\n",
    "        r = r0 + ((theta)**2)\n",
    "        x.append(r*np.cos(theta)/max_r)\n",
    "        y.append(r*np.sin(theta)/max_r)\n",
    "\n",
    "    x = np.asarray(x)\n",
    "    y = np.asarray(y)\n",
    "    x += 1; \n",
    "    y += 1\n",
    "\n",
    "    x = xmin + x*(xmax-xmin)/(x.max())\n",
    "    y = ymin + y*(ymax-ymin)/(y.max())        \n",
    "    \n",
    "    return np.asarray(x), np.asarray(y)\n",
    "\n",
    "def linline(xmin,xmax,N, a, b):    \n",
    "    x = np.linspace(xmin,xmax,N)\n",
    "    y = a*x + b\n",
    "    x_out = []\n",
    "    y_out = []\n",
    "    for i,xyi in enumerate(zip(x,y)):\n",
    "        if xyi[1] > xmin and xyi[1] < xmax:\n",
    "            x_out.append(xyi[0])\n",
    "            y_out.append(xyi[1])\n",
    "    return np.asarray(x_out), np.asarray(y_out)\n",
    "\n",
    "def map_line_pattern2grid(x_pat,y_pat, dx, dy):\n",
    "    \n",
    "    \n",
    "    x_pat_grid = np.round((x_pat/dx)).astype(int)\n",
    "    y_pat_grid = np.round((y_pat/dy)).astype(int)\n",
    "    \n",
    "    return x_pat_grid, y_pat_grid\n",
    "\n",
    "def greate_grid(xmin, xmax, dx, ymin, ymax, dy):\n",
    "    \n",
    "    x = np.arange(xmin, xmax+dx, dx)\n",
    "    y = np.arange(ymin, ymax+dy, dy)\n",
    "    xx_grid, yy_grid = np.meshgrid(x, y, sparse=False)        \n",
    "    \n",
    "    return xx_grid.astype(int), yy_grid.astype(int)\n",
    "\n",
    "def grid_dict(x, y, xi, yi, dictIn = {}, TargetID = -1, timesteps = 0, verb = 1, mask_val = []):\n",
    "    \n",
    "    # append target information to grid dictionary\n",
    "    # keys - str(row_n) + '_' str(col_n)\n",
    "    # values: [x,y,TargetID,SequenceNo,SeqTag] - all floats\n",
    "    repl_count = 0\n",
    "    for k,(i,j) in enumerate(zip(xi,yi)):\n",
    "        if len(mask_val) == len(x):\n",
    "            TargetID = mask_val[k]\n",
    "        if i < 0 or j < 0:\n",
    "            print('Warning - NEGATIVE index ',i,j)\n",
    "        key = str(i) + '_' + str(j)\n",
    "        if key in dictIn.keys():\n",
    "            repl_count += 1\n",
    "            if verb == 1:\n",
    "                print('replacing key: ', key, repl_count)\n",
    "        if timesteps > 0:\n",
    "            dictIn[key] = [x[k],y[k],TargetID,k,np.mod(k,timesteps)+1,i,j]\n",
    "        else:\n",
    "            dictIn[key] = [x[k],y[k],TargetID,k,0,i,j]\n",
    "    return dictIn\n",
    "\n",
    "def ini_grid_dict(xx_grid, yy_grid):\n",
    "    # Target ID: -1 grid cells no detection\n",
    "    # Target ID: 0 grid cells false detection\n",
    "    # Target ID > 0 - target number\n",
    "    x = xx_grid[0,:]\n",
    "    i = []\n",
    "    xi = np.asarray([i for i in range(xx_grid.shape[1])])\n",
    "    # yiv = np.asarray([i for i in range(0,len(x))])\n",
    "    y = yy_grid[:,0]\n",
    "    #TargetID = -1\n",
    "    #timesteps = 0\n",
    "    dictIn = {}\n",
    "\n",
    "    for yi in range(yy_grid.shape[0]):\n",
    "        #yiv[:] = np.array(yi).copy()\n",
    "        yiv = []\n",
    "        for t in range(yy_grid.shape[0]):\n",
    "            yiv.append(yi)\n",
    "        yiv = np.asarray(yiv).flatten()        \n",
    "\n",
    "        yv = []\n",
    "        for t in range(len(y)):\n",
    "            yv.append(y[yi])\n",
    "        yv = np.asarray(yv).flatten()        \n",
    "        dictIn = grid_dict(x, yv, xi, yiv, dictIn = dictIn, TargetID = -1, timesteps = 0)  \n",
    "    return dictIn\n",
    "\n",
    "def get_target_track(dictIn, TargetID, Nx, Ny):  \n",
    "    \n",
    "    xy = []\n",
    "    for i in range(Nx):\n",
    "        for j in range(Ny):\n",
    "            key = str(i) + '_' + str(j)\n",
    "            a = dictIn[key]\n",
    "            if a[2] == TargetID:\n",
    "                if len(xy) == 0:\n",
    "                    xy = np.transpose(a)\n",
    "                else:\n",
    "                    xy = np.vstack((xy,np.transpose(a)))\n",
    "    return xy\n",
    "\n",
    "def get_all_data(dictIn, Nx, Ny, TargetID = -1):\n",
    "        \n",
    "    xy = []\n",
    "    for i in range(Nx):\n",
    "        for j in range(Ny):\n",
    "            key = str(i) + '_' + str(j)\n",
    "            a = dictIn[key]\n",
    "            if a[2] != TargetID:\n",
    "                if len(xy) == 0:\n",
    "                    xy = np.transpose(a)\n",
    "                else:\n",
    "                    xy = np.vstack((xy,np.transpose(a)))\n",
    "    return xy\n",
    "\n",
    "def get_mask_from_all_dat(xx_grid, xy):\n",
    "        \n",
    "    mask_dat = np.zeros((xx_grid.shape[0],xx_grid.shape[1]))\n",
    "    noise_mask_dat = np.zeros((xx_grid.shape[0],xx_grid.shape[1]))\n",
    "    all_det_mask_dat = np.zeros((xx_grid.shape[0],xx_grid.shape[1]))\n",
    "        \n",
    "    for t in range(xy.shape[0]):\n",
    "        j = xy[t,5].astype(int) # column number x\n",
    "        i = xy[t,6].astype(int) # row    number y\n",
    "        if xy[t,2] > 0:\n",
    "            all_det_mask_dat[i,j] = 1\n",
    "        if xy[t,2] > 1:\n",
    "            mask_dat[i,j] = 1\n",
    "        if xy[t,2] == 1:\n",
    "            noise_mask_dat[i,j] = 1\n",
    "\n",
    "    return mask_dat, noise_mask_dat, all_det_mask_dat\n",
    "            \n",
    "\n",
    "def get_images_from_masked_dat(mask, dxn = 3, dxn_overlap = 2):\n",
    "    \n",
    "    imhight = mask.shape[0] # number of rows\n",
    "    imwidth = mask.shape[1] # number of columns\n",
    "    ims = np.zeros((1000,dxn*imhight))\n",
    "    y = np.zeros((1000,1))\n",
    "    count = -1\n",
    "    for i in range(0,ims.shape[1],dxn_overlap):\n",
    "        if i+dxn > mask.shape[1]:\n",
    "            break\n",
    "        count += 1\n",
    "        im = mask[:,i:i+dxn]\n",
    "        # print(im.shape)\n",
    "        ims[count,:] = np.reshape(im, (1,ims.shape[1]))\n",
    "        y[count] = im.sum()\n",
    "    \n",
    "    return ims[:count+1,:], y[:count+1]\n",
    "\n",
    "def get_3D_images_from_masked_dat(mask, dxn = 3, dxn_overlap = 2):\n",
    "    \n",
    "    imhight = mask.shape[0] # number of rows\n",
    "    imwidth = mask.shape[1] # number of columns\n",
    "    N = 100*imwidth\n",
    "    ims = np.zeros((N,dxn,imhight))\n",
    "    y = np.zeros((N,1))\n",
    "    count = -1\n",
    "    for i in range(0,imwidth,dxn_overlap):\n",
    "        #print(i,i+dxn)\n",
    "        if i+dxn > (mask.shape[1]+1):\n",
    "            break\n",
    "        count += 1\n",
    "        im = mask[:,i:i+dxn].transpose()\n",
    "        ims[count,:,:] = im \n",
    "        y[count] = im.sum()\n",
    "\n",
    "    return ims[:count+1,:], y[:count+1]\n",
    "\n",
    "def reduced_binary_noise_mask(N = 100):\n",
    "    \n",
    "    mask1_1 = np.random.randint(0,2,size=(N,N))\n",
    "    mask2_1 = np.random.randint(0,2,size=(N,N))\n",
    "    mask3_1 = np.random.randint(0,2,size=(N,N))\n",
    "    maskOut = np.zeros(mask2_1.shape)\n",
    "    for i in range(mask1_1.shape[0]):\n",
    "        for j in range(mask1_1.shape[1]):\n",
    "            if mask1_1[i,j]==1 and mask2_1[i,j]==1 and mask3_1[i,j]==1:\n",
    "                #if mask1[i,j]==1 and mask2[i,j]==1 and mask3[i,j]==1:\n",
    "                maskOut[i,j] = 1  \n",
    "                \n",
    "    return maskOut\n",
    "def track_y_3D(y, n = 3):\n",
    "    y_stacked = np.hstack((y,y))\n",
    "    for i in range(n-2):\n",
    "        y_stacked = np.hstack((y_stacked,y))\n",
    "        \n",
    "    return np.reshape(y_stacked,(y_stacked.shape[0],y_stacked.shape[1],1))\n",
    "def get_noise_target_bin_class(y_noise_target, y_noise):\n",
    "    y_target = np.zeros(y_noise_target.shape)\n",
    "    for i in range(len(y_target)):\n",
    "        if y_noise_target[i] > y_noise[i]:\n",
    "            y_target[i] = 1\n",
    "    return y_target\n"
   ]
  },
  {
   "cell_type": "code",
   "execution_count": 5,
   "metadata": {
    "collapsed": true
   },
   "outputs": [],
   "source": [
    "#train_X_lin.shape\n",
    "#y_noise_target_lin1.shape\n",
    "#y_noise_stack = np.vstack((y_noise,y_noise,y_noise,y_noise))\n",
    "#y_noise_stack.shape\n",
    "#im_noise_target_lin1.shape\n",
    "def get_mapped_dat(mask, all_det_mask_dat, dxn, dxn_overlap):\n",
    "    \n",
    "    im_noise_target, y_noise_target= get_3D_images_from_masked_dat(all_det_mask_dat, dxn = dxn, dxn_overlap = dxn_overlap)\n",
    "    im_noise, y_noise = get_3D_images_from_masked_dat(mask, dxn = dxn, dxn_overlap = dxn_overlap)\n",
    "    return im_noise_target, y_noise_target, im_noise, y_noise\n"
   ]
  },
  {
   "cell_type": "code",
   "execution_count": 6,
   "metadata": {
    "collapsed": true
   },
   "outputs": [],
   "source": [
    "def get_data(xmin, xmax,ymin,ymax, dx, dy, N, scales, xx_grid2D, \n",
    "             yy_grid2D, xx_grid1D, yy_grid1D, linFlag, N_mask, dxn, dxn_overlap):\n",
    "    \n",
    "    if linFlag == True:\n",
    "        a = scales[0]\n",
    "        b = scales[1]\n",
    "        x,y = linline(xmin,xmax,N, a, b)\n",
    "    else:\n",
    "        theta_pi_scale = scales[0]\n",
    "        r0 = scales[1]\n",
    "        y, x = spiral(theta_pi_scale, N, r0 ,xmax,xmin,ymax,ymin)\n",
    "    # print(len(x),len(y))\n",
    "    x_grid, y_grid = map_line_pattern2grid(x,y, dx, dy)\n",
    "    \n",
    "    mask = reduced_binary_noise_mask(N = N_mask)\n",
    "    mask_val = mask.reshape((N_mask*N_mask,1)).astype(int).flatten()    \n",
    "    \n",
    "    dictIn1 = grid_dict(xx_grid1D, yy_grid1D, xx_grid1D, yy_grid1D, dictIn = {}, TargetID = 0, \n",
    "                   timesteps = 0, mask_val = mask_val)\n",
    "    dictIn = grid_dict(x, y, x_grid, y_grid, dictIn = dictIn1.copy(), TargetID = 2, \n",
    "                   timesteps = timesteps, verb = 0, mask_val = [])\n",
    "    xy = get_all_data(dictIn, xx_grid2D.shape[0], xx_grid2D.shape[1], TargetID = -10)    \n",
    "    \n",
    "    mask_dat, noise_mask_dat, all_det_mask_dat = get_mask_from_all_dat(xx_grid2D, xy)\n",
    "    \n",
    "        \n",
    "    \n",
    "    im_noise_target, y_noise_target, im_noise, y_noise = get_mapped_dat(mask,\n",
    "                                    all_det_mask_dat, dxn, dxn_overlap)\n",
    "    \n",
    "    return im_noise_target, y_noise_target, im_noise, y_noise\n",
    "\n"
   ]
  },
  {
   "cell_type": "code",
   "execution_count": 7,
   "metadata": {
    "collapsed": true
   },
   "outputs": [],
   "source": [
    "def get_formated_dat(Npoints, Nblocks, N_mask, scales_bounds, linFlagV, dxn, dxn_overlap):\n",
    "    \n",
    "    \n",
    "    X = []\n",
    "    y = []\n",
    "    theta_pi_scale_min = scales_bounds[0]\n",
    "    theta_pi_scale_max = scales_bounds[1]\n",
    "    r0_min = scales_bounds[2]\n",
    "    r0_max = scales_bounds[3]\n",
    "    scales = np.zeros((1,2)).flatten()\n",
    "    assert Nblocks == len(linFlagV) \n",
    "    assert len(scales_bounds) == 4\n",
    "    xmax = N_mask #mask1.shape[0]; \n",
    "    ymax = N_mask #mask1.shape[1]\n",
    "    xmin = 0\n",
    "    ymin = 0\n",
    "\n",
    "    dx = (xmax-xmin)/N_mask\n",
    "    dy = (ymax-ymin)/N_mask\n",
    "    # create N x N grids\n",
    "    xx_grid2D, yy_grid2D = greate_grid(xmin, xmax-1, dx, ymin, ymax-1, dy)\n",
    "    xx_grid1D = xx_grid2D.reshape((N_mask*N_mask,1)).astype(int).flatten()\n",
    "    yy_grid1D = yy_grid2D.reshape((N_mask*N_mask,1)).astype(int).flatten()\n",
    "\n",
    "    for i in range(Nblocks):\n",
    "        linFlag = linFlagV[i]\n",
    "        if linFlag == True:\n",
    "            a, b = np.random.randn(1), np.random.randint(10,90)\n",
    "            scales[0] = a[0]\n",
    "            scales[1] = b\n",
    "\n",
    "        else:\n",
    "            scales[0] = theta_pi_scale_min + np.random.rand(1)*theta_pi_scale_max\n",
    "            scales[1] = r0_min + np.random.rand(1)*r0_max \n",
    "\n",
    "        im_noise_target, y_noise_target, im_noise, y_noise = get_data(xmin,xmax,ymin,ymax,\n",
    "                dx, dy, Npoints, scales, xx_grid2D, yy_grid2D, xx_grid1D, yy_grid1D, \n",
    "                                                    linFlag, N_mask, dxn, dxn_overlap)                                                                      \n",
    "        # print(im_noise_target.shape)\n",
    "        target_class = get_noise_target_bin_class(y_noise_target, y_noise)\n",
    "        \n",
    "        noiseFlag1 = np.random.randint(0,2,1)\n",
    "        noiseFlag2 = np.random.randint(0,2,1)\n",
    "        if noiseFlag1 == 0 and noiseFlag2 == 0:\n",
    "            y1 = np.zeros(y_noise.shape)\n",
    "            X1 = im_noise\n",
    "            #print('NaN,NaN')\n",
    "        else:\n",
    "            #print(scales)\n",
    "            y1 = target_class\n",
    "            X1 = im_noise_target\n",
    "        #y1 = np.vstack((target_class, np.zeros(y_noise.shape)))\n",
    "        #X1 = np.vstack((im_noise_target,im_noise))\n",
    "        if len(X) == 0:\n",
    "            X = X1\n",
    "            y = y1\n",
    "        else:\n",
    "            X = np.vstack((X, X1))\n",
    "            y = np.vstack((y,y1))\n",
    "\n",
    "    return X, y\n",
    "\n",
    "    "
   ]
  },
  {
   "cell_type": "code",
   "execution_count": 8,
   "metadata": {},
   "outputs": [],
   "source": [
    "def imconcat(X, ni, nstep):\n",
    "    X_out = []\n",
    "    for i in range(ni, ni+nstep):\n",
    "        if len(X_out) == 0:\n",
    "            X_out = X[i,:,:]\n",
    "        else:\n",
    "            X_out = np.vstack((X_out, X[i,:,:]))\n",
    "    return X_out\n",
    "    \n",
    "def image_plot(X, ni,nstep):\n",
    "    fig=plt.figure(figsize=(15,12))\n",
    "    #gs = gridspec.GridSpec(1, 2, width_ratios=[3, 1]) \n",
    "    cmap = colors.ListedColormap(['white','black'])\n",
    "    ind = 0\n",
    "    for j in range(ni, ni+nstep*4, nstep):\n",
    "        #print(j)\n",
    "        if j > X.shape[0]-nstep:\n",
    "            break\n",
    "        X2 = imconcat(X, j, nstep)\n",
    "        ind += 1\n",
    "        plt.subplot(2,2,ind)\n",
    "        plt.imshow(X2.transpose(),origin='lower', cmap=cmap, interpolation = 'none',aspect='auto')\n",
    "\n",
    "def load_data(DATA_PATH, fname_start, no_files):\n",
    "    \n",
    "    X = []\n",
    "    y = []\n",
    "\n",
    "    for i in range(no_files):\n",
    "        xfname = DATA_PATH+fname_start + '_X_' + str(file_no) + '.npy'\n",
    "        yfname = DATA_PATH+fname_start + '_y_' + str(file_no) + '.npy'\n",
    "        X1 = np.load(xfname)\n",
    "        y1 = np.load(yfname)\n",
    "        if len(X) == 0:\n",
    "            X = X1\n",
    "            y = y1\n",
    "        else:\n",
    "            X = np.vstack((X,X1))\n",
    "            y = np.vstack((y,y1))\n",
    "    return X, y\n",
    "\n",
    "def save_dat(DATA_PATH, fname_start, X,y, file_no):\n",
    "    \n",
    "    xfname = DATA_PATH+fname_start + '_X_' + str(file_no) + '.npy'\n",
    "    yfname = DATA_PATH+fname_start + '_y_' + str(file_no) + '.npy'\n",
    "    np.save(xfname, X)\n",
    "    np.save(yfname, y)"
   ]
  },
  {
   "cell_type": "code",
   "execution_count": 112,
   "metadata": {
    "collapsed": true
   },
   "outputs": [],
   "source": [
    "def roc_dat(estim_Y, Y_mixed_test1, th):\n",
    "    \n",
    "    time_steps = 1\n",
    "    a_1 = np.zeros(estim_Y.shape[0]*time_steps)\n",
    "    a_2 = np.zeros(estim_Y.shape[0]*time_steps)\n",
    "\n",
    "    a = np.zeros(estim_Y.shape[0]*time_steps)\n",
    "    b = np.zeros(estim_Y.shape[0]*time_steps)\n",
    "    c = np.zeros(estim_Y.shape[0]*time_steps)\n",
    "    d =  np.zeros(estim_Y.shape[0]*time_steps)\n",
    "\n",
    "    count = -1\n",
    "    for i in range(estim_Y.shape[0]):\n",
    "        count += 1\n",
    "        if estim_Y[i] > th:\n",
    "            a_2[count] = 1\n",
    "        if Y_mixed_test1[i] > th:\n",
    "            a_1[count] = 1\n",
    "        if estim_Y[i] > th and Y_mixed_test1[i] > th:\n",
    "            a[count] = 1 # true positive\n",
    "        if estim_Y[i] < th and Y_mixed_test1[i] > th:\n",
    "            b[count] = 1 # false negative\n",
    "        if estim_Y[i] > th and Y_mixed_test1[i] < th:\n",
    "            c[count] = 1 # false positive\n",
    "        if estim_Y[i] < th and Y_mixed_test1[i] < th:\n",
    "            d[count] = 1 # true negative\n",
    "        \n",
    "    #print(estim_Y.shape)\n",
    "    #print(train_X1.shape)\n",
    "    print('Pd  ' ,sum(a)/(sum(a)+sum(b)), 'True Pos:  ', sum(a_2), 'Estim Pos: ', sum(a_1))\n",
    "    print('P_false_pos_rate  ',  1 - sum(d)/(sum(c)+sum(d)))\n",
    "\n",
    "\n",
    "    res1 = 1 - np.sum(np.abs(np.round(Y_mixed_test1[:]) - np.round( estim_Y[:]))/estim_Y.shape[0])\n",
    "    print(np.sum(np.abs(Y_mixed_test1- estim_Y))/len(Y_mixed_test1[:,0])*100)\n",
    "    print(res1*100)\n"
   ]
  },
  {
   "cell_type": "code",
   "execution_count": 118,
   "metadata": {},
   "outputs": [],
   "source": [
    "DATA_PATH = 'data/'"
   ]
  },
  {
   "cell_type": "code",
   "execution_count": null,
   "metadata": {},
   "outputs": [],
   "source": [
    "#np.random.seed(12345)\n",
    "#np.random.seed(1234)\n",
    "#np.random.seed(7)\n",
    "\n",
    "timesteps = 5 #10\n",
    "dxn_overlap = 10\n",
    "dxn = 10\n",
    "seqlen = 2\n",
    "batch_size = 5\n",
    "\n",
    "xmin = 0; ymin = 0\n",
    "scales_bounds = [3, 7, 50, 300]\n",
    "Nblocks = 2*500 #2*250\n",
    "Npoints = 300\n",
    "N_mask = 30#100\n",
    "linFlagV = np.ones((Nblocks,1))\n",
    "fname_start = 'train_linear'\n",
    "no_files = 2\n",
    "load_data_flag = False\n",
    "# linFlagV[2:5] = 0\n",
    "if load_data_flag == True:\n",
    "    X,y = load_data(DATA_PATH, fname_start, no_files)\n",
    "else:\n",
    "    X, y = get_formated_dat(Npoints, Nblocks, N_mask, scales_bounds, linFlagV, dxn, dxn_overlap)\n",
    "    file_no = 3\n",
    "    save_dat(DATA_PATH, fname_start, X,y, file_no)\n",
    "print(X.shape, y.shape)\n",
    "\n"
   ]
  },
  {
   "cell_type": "code",
   "execution_count": 119,
   "metadata": {
    "collapsed": true
   },
   "outputs": [],
   "source": [
    "def y_to_yplot(y, dx):\n",
    "    y_plot = []\n",
    "    for i in range(len(y)):\n",
    "        y1 = np.ones((dx,1))*y[i]\n",
    "        if len(y_plot) == 0:\n",
    "            y_plot = y1\n",
    "        else:\n",
    "            y_plot = np.vstack((y_plot,y1))\n",
    "    return np.array(y_plot).flatten()"
   ]
  },
  {
   "cell_type": "code",
   "execution_count": 120,
   "metadata": {},
   "outputs": [
    {
     "name": "stdout",
     "output_type": "stream",
     "text": [
      "(30000,) (3000, 1) (3000, 10, 30)\n"
     ]
    },
    {
     "data": {
      "image/png": "[encoded data removed]",
      "text/plain": [
       "<matplotlib.figure.Figure at 0x7fcfd7bb2a58>"
      ]
     },
     "metadata": {},
     "output_type": "display_data"
    }
   ],
   "source": [
    "#yfname_train = DATA_PATH+'train_linear_y_2.npy'\n",
    "#np.save(yfname_train, y)\n",
    "#save_dat(DATA_PATH, fname_start, X,y, file_no)\n",
    "y_plot = y_to_yplot(y, dxn)\n",
    "plt.plot(y_plot[600:900],'o-')\n",
    "print(y_plot.shape, y.shape, X.shape)"
   ]
  },
  {
   "cell_type": "code",
   "execution_count": 121,
   "metadata": {},
   "outputs": [],
   "source": [
    "Nblocks_test = 100\n",
    "linFlagV_test = np.ones((Nblocks_test,1))\n",
    "test_X, test_y_true = get_formated_dat(Npoints, Nblocks_test, N_mask, scales_bounds, linFlagV_test, dxn, dxn_overlap)"
   ]
  },
  {
   "cell_type": "code",
   "execution_count": 122,
   "metadata": {},
   "outputs": [
    {
     "data": {
      "text/plain": [
       "<matplotlib.text.Text at 0x7fcfdd85b5c0>"
      ]
     },
     "execution_count": 122,
     "metadata": {},
     "output_type": "execute_result"
    },
    {
     "data": {
      "image/png": "[encoded data removed]",
      "text/plain": [
       "<matplotlib.figure.Figure at 0x7fcfd7ce9c18>"
      ]
     },
     "metadata": {},
     "output_type": "display_data"
    }
   ],
   "source": [
    "#ims, y_noise_target = get_3D_images_from_masked_dat(all_det_mask_dat, dxn = 10, dxn_overlap = 10)\n",
    "#from matplotlib import gridspec\n",
    "y_plot = y_to_yplot(y, dxn)\n",
    "test_y_true_plot = y_to_yplot(test_y_true, dxn)\n",
    "fig=plt.figure(figsize=(16,20))\n",
    "cmap = colors.ListedColormap(['white','black'])\n",
    "#gs = gridspec.GridSpec(1, 2, width_ratios=[3, 1]) \n",
    "plt.subplot(4,1,1)\n",
    "plt.plot(y_plot[600:900],'o-')\n",
    "plt.title('True y train subsample')\n",
    "plt.subplot(4,1,2)\n",
    "#ims = X[60:140,:,:].copy()\n",
    "ims = X[60:90,:,:].copy()\n",
    "im = np.reshape(ims, (ims.shape[0]*ims.shape[1],ims.shape[2]))\n",
    "plt.imshow(im.transpose(),origin='lower', cmap=cmap, interpolation = 'none',aspect='auto');\n",
    "plt.title('X train subsample')\n",
    "plt.xlabel('concatenated X column number')\n",
    "plt.ylabel('X row number')\n",
    "plt.subplot(4,1,3)\n",
    "plt.plot(test_y_true_plot[1000:1500],'o-')\n",
    "plt.title('True y test subsample')\n",
    "plt.subplot(4,1,4)\n",
    "ims = test_X[100:150,:,:].copy()\n",
    "im = np.reshape(ims, (ims.shape[0]*ims.shape[1],ims.shape[2]))\n",
    "plt.imshow(im.transpose(),origin='lower', cmap=cmap, interpolation = 'none',aspect='auto');\n",
    "plt.title('X test subsample')\n",
    "plt.xlabel('concatenated X column number')\n",
    "plt.ylabel('X row number')"
   ]
  },
  {
   "cell_type": "code",
   "execution_count": 123,
   "metadata": {},
   "outputs": [
    {
     "name": "stdout",
     "output_type": "stream",
     "text": [
      "Build model...\n"
     ]
    },
    {
     "name": "stderr",
     "output_type": "stream",
     "text": [
      "/home/george/anaconda3/envs/tensorflow/lib/python3.5/site-packages/ipykernel/__main__.py:9: UserWarning: Update your `LSTM` call to the Keras 2 API: `LSTM(units=16, input_shape=(10, 30), return_sequences=True)`\n"
     ]
    },
    {
     "name": "stdout",
     "output_type": "stream",
     "text": [
      "_________________________________________________________________\n",
      "Layer (type)                 Output Shape              Param #   \n",
      "=================================================================\n",
      "lstm_1 (LSTM)                (None, 10, 16)            3008      \n",
      "_________________________________________________________________\n",
      "dense_1 (Dense)              (None, 10, 16)            272       \n",
      "_________________________________________________________________\n",
      "activation_1 (Activation)    (None, 10, 16)            0         \n",
      "_________________________________________________________________\n",
      "dense_2 (Dense)              (None, 10, 1)             17        \n",
      "=================================================================\n",
      "Total params: 3,297\n",
      "Trainable params: 3,297\n",
      "Non-trainable params: 0\n",
      "_________________________________________________________________\n"
     ]
    },
    {
     "name": "stderr",
     "output_type": "stream",
     "text": [
      "/home/george/anaconda3/envs/tensorflow/lib/python3.5/site-packages/ipykernel/__main__.py:14: UserWarning: Update your `Dense` call to the Keras 2 API: `Dense(units=1, activation=\"relu\")`\n"
     ]
    }
   ],
   "source": [
    "input_shape = (X.shape[1],X.shape[2])\n",
    "print('Build model...')\n",
    "hidden_size = 16\n",
    "K.reset_uids()\n",
    "K.clear_session()\n",
    "model_lin = Sequential()\n",
    "#model.add(Masking(mask_value=0))\n",
    "#model_lin.add(LSTM(input_shape=input_shape, output_dim=hidden_size, return_sequences=False))\n",
    "model_lin.add(LSTM(input_shape=input_shape, output_dim=hidden_size, return_sequences=True))\n",
    "model_lin.add(Dense(hidden_size))\n",
    "model_lin.add(Activation('relu'))\n",
    "\n",
    "#model_lin.add(Dense(output_dim=1, activation=\"linear\"))\n",
    "model_lin.add(Dense(output_dim=1, activation=\"relu\"))\n",
    "model_lin.summary()\n",
    "#optimizer = optimizers.rmsprop(lr=0.01, clipnorm=2)\n",
    "#model_lin.compile(optimizer=optimizer, loss='mse')\n",
    "optimizer = optimizers.Adam(clipnorm=2)\n",
    "\n",
    "model_lin.compile(optimizer=optimizer, loss='binary_crossentropy')\n",
    "# model_lin.compile(optimizer=optimizer, loss='mse')\n",
    "\n",
    "# kullback_leibler_divergence\n",
    "# from keras.utils.np_utils import to_categorical\n",
    "#categorical_labels = to_categorical(int_labels, num_classes=None)\n",
    "# from keras import losses\n",
    "# model.compile(loss=losses.mean_squared_error, optimizer='sgd')"
   ]
  },
  {
   "cell_type": "code",
   "execution_count": 124,
   "metadata": {},
   "outputs": [
    {
     "name": "stdout",
     "output_type": "stream",
     "text": [
      "Epoch 1/200\n",
      "3000/3000 [==============================] - 11s - loss: 0.6853    \n",
      "Epoch 2/200\n",
      "3000/3000 [==============================] - 10s - loss: 0.7369    \n",
      "Epoch 3/200\n",
      "3000/3000 [==============================] - 10s - loss: 0.7062    \n",
      "Epoch 4/200\n",
      "3000/3000 [==============================] - 11s - loss: 0.6561    \n",
      "Epoch 5/200\n",
      "3000/3000 [==============================] - 11s - loss: 0.6115    \n",
      "Epoch 6/200\n",
      "3000/3000 [==============================] - 11s - loss: 0.5560    \n",
      "Epoch 7/200\n",
      "3000/3000 [==============================] - 11s - loss: 0.6008    \n",
      "Epoch 8/200\n",
      "3000/3000 [==============================] - 11s - loss: 0.5639    \n",
      "Epoch 9/200\n",
      "3000/3000 [==============================] - 11s - loss: 0.5544    \n",
      "Epoch 10/200\n",
      "3000/3000 [==============================] - 11s - loss: 0.5095    \n",
      "Epoch 11/200\n",
      "3000/3000 [==============================] - 11s - loss: 0.5137    \n",
      "Epoch 12/200\n",
      "3000/3000 [==============================] - 11s - loss: 0.4858    \n",
      "Epoch 13/200\n",
      "3000/3000 [==============================] - 11s - loss: 0.4795    \n",
      "Epoch 14/200\n",
      "3000/3000 [==============================] - 11s - loss: 0.4520    \n",
      "Epoch 15/200\n",
      "3000/3000 [==============================] - 11s - loss: 0.4587    \n",
      "Epoch 16/200\n",
      "3000/3000 [==============================] - 11s - loss: 0.4322    \n",
      "Epoch 17/200\n",
      "3000/3000 [==============================] - 11s - loss: 0.4122    \n",
      "Epoch 18/200\n",
      "3000/3000 [==============================] - 11s - loss: 0.4018    \n",
      "Epoch 19/200\n",
      "3000/3000 [==============================] - 11s - loss: 0.4148    \n",
      "Epoch 20/200\n",
      "3000/3000 [==============================] - 11s - loss: 0.4230    \n",
      "Epoch 21/200\n",
      "3000/3000 [==============================] - 11s - loss: 0.3906    \n",
      "Epoch 22/200\n",
      "3000/3000 [==============================] - 11s - loss: 0.3909    \n",
      "Epoch 23/200\n",
      "3000/3000 [==============================] - ETA: 0s - loss: 0.397 - 11s - loss: 0.3961    \n",
      "Epoch 24/200\n",
      "3000/3000 [==============================] - 11s - loss: 0.3726    \n",
      "Epoch 25/200\n",
      "3000/3000 [==============================] - 11s - loss: 0.3582    \n",
      "Epoch 26/200\n",
      "3000/3000 [==============================] - 11s - loss: 0.3655    \n",
      "Epoch 27/200\n",
      "3000/3000 [==============================] - 11s - loss: 0.3497    \n",
      "Epoch 28/200\n",
      "3000/3000 [==============================] - 11s - loss: 0.3458    \n",
      "Epoch 29/200\n",
      "3000/3000 [==============================] - 11s - loss: 0.3435    \n",
      "Epoch 30/200\n",
      "3000/3000 [==============================] - 11s - loss: 0.3369    \n",
      "Epoch 31/200\n",
      "3000/3000 [==============================] - 11s - loss: 0.3476    \n",
      "Epoch 32/200\n",
      "3000/3000 [==============================] - 11s - loss: 0.3332    \n",
      "Epoch 33/200\n",
      "3000/3000 [==============================] - 11s - loss: 0.3100    \n",
      "Epoch 34/200\n",
      "3000/3000 [==============================] - 11s - loss: 0.3335    \n",
      "Epoch 35/200\n",
      "3000/3000 [==============================] - 11s - loss: 0.3187    \n",
      "Epoch 36/200\n",
      "3000/3000 [==============================] - 11s - loss: 0.3016    \n",
      "Epoch 37/200\n",
      "3000/3000 [==============================] - 11s - loss: 0.3013    \n",
      "Epoch 38/200\n",
      "3000/3000 [==============================] - 11s - loss: 0.2860    \n",
      "Epoch 39/200\n",
      "3000/3000 [==============================] - 11s - loss: 0.2942    \n",
      "Epoch 40/200\n",
      "3000/3000 [==============================] - 11s - loss: 0.2958    \n",
      "Epoch 41/200\n",
      "3000/3000 [==============================] - 11s - loss: 0.2846    \n",
      "Epoch 42/200\n",
      "3000/3000 [==============================] - 11s - loss: 0.2783    \n",
      "Epoch 43/200\n",
      "3000/3000 [==============================] - 11s - loss: 0.2610    \n",
      "Epoch 44/200\n",
      "3000/3000 [==============================] - 11s - loss: 0.2613    \n",
      "Epoch 45/200\n",
      "3000/3000 [==============================] - 11s - loss: 0.2652    \n",
      "Epoch 46/200\n",
      "3000/3000 [==============================] - 11s - loss: 0.2562    \n",
      "Epoch 47/200\n",
      "3000/3000 [==============================] - 11s - loss: 0.2562    \n",
      "Epoch 48/200\n",
      "3000/3000 [==============================] - 11s - loss: 0.2662    \n",
      "Epoch 49/200\n",
      "3000/3000 [==============================] - 11s - loss: 0.2491    \n",
      "Epoch 50/200\n",
      "3000/3000 [==============================] - 11s - loss: 0.2468    \n",
      "Epoch 51/200\n",
      "3000/3000 [==============================] - 11s - loss: 0.2580    \n",
      "Epoch 52/200\n",
      "3000/3000 [==============================] - 11s - loss: 0.2434    \n",
      "Epoch 53/200\n",
      "3000/3000 [==============================] - 11s - loss: 0.2363    \n",
      "Epoch 54/200\n",
      "3000/3000 [==============================] - 11s - loss: 0.2427    \n",
      "Epoch 55/200\n",
      "3000/3000 [==============================] - 11s - loss: 0.2248    \n",
      "Epoch 56/200\n",
      "3000/3000 [==============================] - 11s - loss: 0.2245    \n",
      "Epoch 57/200\n",
      "3000/3000 [==============================] - 11s - loss: 0.2132    \n",
      "Epoch 58/200\n",
      "3000/3000 [==============================] - 11s - loss: 0.2202    \n",
      "Epoch 59/200\n",
      "3000/3000 [==============================] - 11s - loss: 0.2197    \n",
      "Epoch 60/200\n",
      "3000/3000 [==============================] - 11s - loss: 0.2149    \n",
      "Epoch 61/200\n",
      "3000/3000 [==============================] - 11s - loss: 0.2081    \n",
      "Epoch 62/200\n",
      "3000/3000 [==============================] - 11s - loss: 0.2159    \n",
      "Epoch 63/200\n",
      "3000/3000 [==============================] - 11s - loss: 0.2112    \n",
      "Epoch 64/200\n",
      "3000/3000 [==============================] - 11s - loss: 0.2130    \n",
      "Epoch 65/200\n",
      "3000/3000 [==============================] - 11s - loss: 0.2106    \n",
      "Epoch 66/200\n",
      "3000/3000 [==============================] - 11s - loss: 0.2072    \n",
      "Epoch 67/200\n",
      "3000/3000 [==============================] - 11s - loss: 0.2138    \n",
      "Epoch 68/200\n",
      "3000/3000 [==============================] - 12s - loss: 0.1990    \n",
      "Epoch 69/200\n",
      "3000/3000 [==============================] - 11s - loss: 0.2218    \n",
      "Epoch 70/200\n",
      "3000/3000 [==============================] - 11s - loss: 0.1970    \n",
      "Epoch 71/200\n",
      "3000/3000 [==============================] - 11s - loss: 0.1874    \n",
      "Epoch 72/200\n",
      "3000/3000 [==============================] - 11s - loss: 0.2084    \n",
      "Epoch 73/200\n",
      "3000/3000 [==============================] - 11s - loss: 0.1929    \n",
      "Epoch 74/200\n",
      "3000/3000 [==============================] - 11s - loss: 0.1941    \n",
      "Epoch 75/200\n",
      "3000/3000 [==============================] - 11s - loss: 0.1828    \n",
      "Epoch 76/200\n",
      "3000/3000 [==============================] - 11s - loss: 0.2067    \n",
      "Epoch 77/200\n",
      "3000/3000 [==============================] - 11s - loss: 0.1805    \n",
      "Epoch 78/200\n",
      "3000/3000 [==============================] - 11s - loss: 0.1813    \n",
      "Epoch 79/200\n",
      "3000/3000 [==============================] - 11s - loss: 0.1739    \n",
      "Epoch 80/200\n",
      "3000/3000 [==============================] - 11s - loss: 0.1872    \n",
      "Epoch 81/200\n",
      "3000/3000 [==============================] - 11s - loss: 0.1918    \n",
      "Epoch 82/200\n",
      "3000/3000 [==============================] - 11s - loss: 0.1934    \n",
      "Epoch 83/200\n",
      "3000/3000 [==============================] - 11s - loss: 0.1848    \n",
      "Epoch 84/200\n",
      "3000/3000 [==============================] - 11s - loss: 0.1943    \n",
      "Epoch 85/200\n",
      "3000/3000 [==============================] - 11s - loss: 0.1851    \n",
      "Epoch 86/200\n",
      "3000/3000 [==============================] - 11s - loss: 0.1693    \n",
      "Epoch 87/200\n",
      "3000/3000 [==============================] - 11s - loss: 0.1810    \n",
      "Epoch 88/200\n",
      "3000/3000 [==============================] - 11s - loss: 0.1868    \n",
      "Epoch 89/200\n",
      "3000/3000 [==============================] - 11s - loss: 0.1796    \n",
      "Epoch 90/200\n",
      "3000/3000 [==============================] - 11s - loss: 0.1807    \n",
      "Epoch 91/200\n",
      "3000/3000 [==============================] - 11s - loss: 0.1791    \n",
      "Epoch 92/200\n",
      "3000/3000 [==============================] - 11s - loss: 0.1820    \n",
      "Epoch 93/200\n",
      "3000/3000 [==============================] - 11s - loss: 0.1674    \n",
      "Epoch 94/200\n",
      "3000/3000 [==============================] - 11s - loss: 0.1712    \n",
      "Epoch 95/200\n",
      "3000/3000 [==============================] - 11s - loss: 0.1770    \n",
      "Epoch 96/200\n",
      "3000/3000 [==============================] - 11s - loss: 0.1705    \n",
      "Epoch 97/200\n",
      " 573/3000 [====>.........................] - ETA: 9s - loss: 0.1852"
     ]
    },
    {
     "ename": "KeyboardInterrupt",
     "evalue": "",
     "output_type": "error",
     "traceback": [
      "\u001b[0;31m---------------------------------------------------------------------------\u001b[0m",
      "\u001b[0;31mKeyboardInterrupt\u001b[0m                         Traceback (most recent call last)",
      "\u001b[0;32m<ipython-input-124-58d866fd3eb1>\u001b[0m in \u001b[0;36m<module>\u001b[0;34m()\u001b[0m\n\u001b[1;32m      2\u001b[0m \u001b[0mbatch_size\u001b[0m \u001b[0;34m=\u001b[0m \u001b[0;36m3\u001b[0m\u001b[0;34m\u001b[0m\u001b[0m\n\u001b[1;32m      3\u001b[0m \u001b[0my3D\u001b[0m \u001b[0;34m=\u001b[0m \u001b[0mtrack_y_3D\u001b[0m\u001b[0;34m(\u001b[0m\u001b[0my\u001b[0m\u001b[0;34m.\u001b[0m\u001b[0mcopy\u001b[0m\u001b[0;34m(\u001b[0m\u001b[0;34m)\u001b[0m\u001b[0;34m,\u001b[0m \u001b[0mn\u001b[0m \u001b[0;34m=\u001b[0m \u001b[0;36m10\u001b[0m\u001b[0;34m)\u001b[0m\u001b[0;34m\u001b[0m\u001b[0m\n\u001b[0;32m----> 4\u001b[0;31m \u001b[0mmodel_lin\u001b[0m\u001b[0;34m.\u001b[0m\u001b[0mfit\u001b[0m\u001b[0;34m(\u001b[0m\u001b[0mX\u001b[0m\u001b[0;34m,\u001b[0m \u001b[0my3D\u001b[0m\u001b[0;34m,\u001b[0m \u001b[0mepochs\u001b[0m \u001b[0;34m=\u001b[0m \u001b[0;36m200\u001b[0m\u001b[0;34m,\u001b[0m \u001b[0mbatch_size\u001b[0m \u001b[0;34m=\u001b[0m \u001b[0mbatch_size\u001b[0m\u001b[0;34m,\u001b[0m \u001b[0mverbose\u001b[0m \u001b[0;34m=\u001b[0m \u001b[0;36m1\u001b[0m\u001b[0;34m,\u001b[0m \u001b[0mshuffle\u001b[0m\u001b[0;34m=\u001b[0m\u001b[0;32mTrue\u001b[0m\u001b[0;34m)\u001b[0m\u001b[0;34m\u001b[0m\u001b[0m\n\u001b[0m\u001b[1;32m      5\u001b[0m \u001b[0;31m#model_lin.fit(X, y3D, epochs = 200, batch_size = batch_size, verbose = 1, shuffle=False)\u001b[0m\u001b[0;34m\u001b[0m\u001b[0;34m\u001b[0m\u001b[0m\n",
      "\u001b[0;32m/home/george/anaconda3/envs/tensorflow/lib/python3.5/site-packages/keras/models.py\u001b[0m in \u001b[0;36mfit\u001b[0;34m(self, x, y, batch_size, epochs, verbose, callbacks, validation_split, validation_data, shuffle, class_weight, sample_weight, initial_epoch, **kwargs)\u001b[0m\n\u001b[1;32m    861\u001b[0m                               \u001b[0mclass_weight\u001b[0m\u001b[0;34m=\u001b[0m\u001b[0mclass_weight\u001b[0m\u001b[0;34m,\u001b[0m\u001b[0;34m\u001b[0m\u001b[0m\n\u001b[1;32m    862\u001b[0m                               \u001b[0msample_weight\u001b[0m\u001b[0;34m=\u001b[0m\u001b[0msample_weight\u001b[0m\u001b[0;34m,\u001b[0m\u001b[0;34m\u001b[0m\u001b[0m\n\u001b[0;32m--> 863\u001b[0;31m                               initial_epoch=initial_epoch)\n\u001b[0m\u001b[1;32m    864\u001b[0m \u001b[0;34m\u001b[0m\u001b[0m\n\u001b[1;32m    865\u001b[0m     def evaluate(self, x, y, batch_size=32, verbose=1,\n",
      "\u001b[0;32m/home/george/anaconda3/envs/tensorflow/lib/python3.5/site-packages/keras/engine/training.py\u001b[0m in \u001b[0;36mfit\u001b[0;34m(self, x, y, batch_size, epochs, verbose, callbacks, validation_split, validation_data, shuffle, class_weight, sample_weight, initial_epoch, **kwargs)\u001b[0m\n\u001b[1;32m   1428\u001b[0m                               \u001b[0mval_f\u001b[0m\u001b[0;34m=\u001b[0m\u001b[0mval_f\u001b[0m\u001b[0;34m,\u001b[0m \u001b[0mval_ins\u001b[0m\u001b[0;34m=\u001b[0m\u001b[0mval_ins\u001b[0m\u001b[0;34m,\u001b[0m \u001b[0mshuffle\u001b[0m\u001b[0;34m=\u001b[0m\u001b[0mshuffle\u001b[0m\u001b[0;34m,\u001b[0m\u001b[0;34m\u001b[0m\u001b[0m\n\u001b[1;32m   1429\u001b[0m                               \u001b[0mcallback_metrics\u001b[0m\u001b[0;34m=\u001b[0m\u001b[0mcallback_metrics\u001b[0m\u001b[0;34m,\u001b[0m\u001b[0;34m\u001b[0m\u001b[0m\n\u001b[0;32m-> 1430\u001b[0;31m                               initial_epoch=initial_epoch)\n\u001b[0m\u001b[1;32m   1431\u001b[0m \u001b[0;34m\u001b[0m\u001b[0m\n\u001b[1;32m   1432\u001b[0m     \u001b[0;32mdef\u001b[0m \u001b[0mevaluate\u001b[0m\u001b[0;34m(\u001b[0m\u001b[0mself\u001b[0m\u001b[0;34m,\u001b[0m \u001b[0mx\u001b[0m\u001b[0;34m,\u001b[0m \u001b[0my\u001b[0m\u001b[0;34m,\u001b[0m \u001b[0mbatch_size\u001b[0m\u001b[0;34m=\u001b[0m\u001b[0;36m32\u001b[0m\u001b[0;34m,\u001b[0m \u001b[0mverbose\u001b[0m\u001b[0;34m=\u001b[0m\u001b[0;36m1\u001b[0m\u001b[0;34m,\u001b[0m \u001b[0msample_weight\u001b[0m\u001b[0;34m=\u001b[0m\u001b[0;32mNone\u001b[0m\u001b[0;34m)\u001b[0m\u001b[0;34m:\u001b[0m\u001b[0;34m\u001b[0m\u001b[0m\n",
      "\u001b[0;32m/home/george/anaconda3/envs/tensorflow/lib/python3.5/site-packages/keras/engine/training.py\u001b[0m in \u001b[0;36m_fit_loop\u001b[0;34m(self, f, ins, out_labels, batch_size, epochs, verbose, callbacks, val_f, val_ins, shuffle, callback_metrics, initial_epoch)\u001b[0m\n\u001b[1;32m   1077\u001b[0m                 \u001b[0mbatch_logs\u001b[0m\u001b[0;34m[\u001b[0m\u001b[0;34m'size'\u001b[0m\u001b[0;34m]\u001b[0m \u001b[0;34m=\u001b[0m \u001b[0mlen\u001b[0m\u001b[0;34m(\u001b[0m\u001b[0mbatch_ids\u001b[0m\u001b[0;34m)\u001b[0m\u001b[0;34m\u001b[0m\u001b[0m\n\u001b[1;32m   1078\u001b[0m                 \u001b[0mcallbacks\u001b[0m\u001b[0;34m.\u001b[0m\u001b[0mon_batch_begin\u001b[0m\u001b[0;34m(\u001b[0m\u001b[0mbatch_index\u001b[0m\u001b[0;34m,\u001b[0m \u001b[0mbatch_logs\u001b[0m\u001b[0;34m)\u001b[0m\u001b[0;34m\u001b[0m\u001b[0m\n\u001b[0;32m-> 1079\u001b[0;31m                 \u001b[0mouts\u001b[0m \u001b[0;34m=\u001b[0m \u001b[0mf\u001b[0m\u001b[0;34m(\u001b[0m\u001b[0mins_batch\u001b[0m\u001b[0;34m)\u001b[0m\u001b[0;34m\u001b[0m\u001b[0m\n\u001b[0m\u001b[1;32m   1080\u001b[0m                 \u001b[0;32mif\u001b[0m \u001b[0;32mnot\u001b[0m \u001b[0misinstance\u001b[0m\u001b[0;34m(\u001b[0m\u001b[0mouts\u001b[0m\u001b[0;34m,\u001b[0m \u001b[0mlist\u001b[0m\u001b[0;34m)\u001b[0m\u001b[0;34m:\u001b[0m\u001b[0;34m\u001b[0m\u001b[0m\n\u001b[1;32m   1081\u001b[0m                     \u001b[0mouts\u001b[0m \u001b[0;34m=\u001b[0m \u001b[0;34m[\u001b[0m\u001b[0mouts\u001b[0m\u001b[0;34m]\u001b[0m\u001b[0;34m\u001b[0m\u001b[0m\n",
      "\u001b[0;32m/home/george/anaconda3/envs/tensorflow/lib/python3.5/site-packages/keras/backend/tensorflow_backend.py\u001b[0m in \u001b[0;36m__call__\u001b[0;34m(self, inputs)\u001b[0m\n\u001b[1;32m   2266\u001b[0m         updated = session.run(self.outputs + [self.updates_op],\n\u001b[1;32m   2267\u001b[0m                               \u001b[0mfeed_dict\u001b[0m\u001b[0;34m=\u001b[0m\u001b[0mfeed_dict\u001b[0m\u001b[0;34m,\u001b[0m\u001b[0;34m\u001b[0m\u001b[0m\n\u001b[0;32m-> 2268\u001b[0;31m                               **self.session_kwargs)\n\u001b[0m\u001b[1;32m   2269\u001b[0m         \u001b[0;32mreturn\u001b[0m \u001b[0mupdated\u001b[0m\u001b[0;34m[\u001b[0m\u001b[0;34m:\u001b[0m\u001b[0mlen\u001b[0m\u001b[0;34m(\u001b[0m\u001b[0mself\u001b[0m\u001b[0;34m.\u001b[0m\u001b[0moutputs\u001b[0m\u001b[0;34m)\u001b[0m\u001b[0;34m]\u001b[0m\u001b[0;34m\u001b[0m\u001b[0m\n\u001b[1;32m   2270\u001b[0m \u001b[0;34m\u001b[0m\u001b[0m\n",
      "\u001b[0;32m/home/george/anaconda3/envs/tensorflow/lib/python3.5/site-packages/tensorflow/python/client/session.py\u001b[0m in \u001b[0;36mrun\u001b[0;34m(self, fetches, feed_dict, options, run_metadata)\u001b[0m\n\u001b[1;32m    787\u001b[0m     \u001b[0;32mtry\u001b[0m\u001b[0;34m:\u001b[0m\u001b[0;34m\u001b[0m\u001b[0m\n\u001b[1;32m    788\u001b[0m       result = self._run(None, fetches, feed_dict, options_ptr,\n\u001b[0;32m--> 789\u001b[0;31m                          run_metadata_ptr)\n\u001b[0m\u001b[1;32m    790\u001b[0m       \u001b[0;32mif\u001b[0m \u001b[0mrun_metadata\u001b[0m\u001b[0;34m:\u001b[0m\u001b[0;34m\u001b[0m\u001b[0m\n\u001b[1;32m    791\u001b[0m         \u001b[0mproto_data\u001b[0m \u001b[0;34m=\u001b[0m \u001b[0mtf_session\u001b[0m\u001b[0;34m.\u001b[0m\u001b[0mTF_GetBuffer\u001b[0m\u001b[0;34m(\u001b[0m\u001b[0mrun_metadata_ptr\u001b[0m\u001b[0;34m)\u001b[0m\u001b[0;34m\u001b[0m\u001b[0m\n",
      "\u001b[0;32m/home/george/anaconda3/envs/tensorflow/lib/python3.5/site-packages/tensorflow/python/client/session.py\u001b[0m in \u001b[0;36m_run\u001b[0;34m(self, handle, fetches, feed_dict, options, run_metadata)\u001b[0m\n\u001b[1;32m    995\u001b[0m     \u001b[0;32mif\u001b[0m \u001b[0mfinal_fetches\u001b[0m \u001b[0;32mor\u001b[0m \u001b[0mfinal_targets\u001b[0m\u001b[0;34m:\u001b[0m\u001b[0;34m\u001b[0m\u001b[0m\n\u001b[1;32m    996\u001b[0m       results = self._do_run(handle, final_targets, final_fetches,\n\u001b[0;32m--> 997\u001b[0;31m                              feed_dict_string, options, run_metadata)\n\u001b[0m\u001b[1;32m    998\u001b[0m     \u001b[0;32melse\u001b[0m\u001b[0;34m:\u001b[0m\u001b[0;34m\u001b[0m\u001b[0m\n\u001b[1;32m    999\u001b[0m       \u001b[0mresults\u001b[0m \u001b[0;34m=\u001b[0m \u001b[0;34m[\u001b[0m\u001b[0;34m]\u001b[0m\u001b[0;34m\u001b[0m\u001b[0m\n",
      "\u001b[0;32m/home/george/anaconda3/envs/tensorflow/lib/python3.5/site-packages/tensorflow/python/client/session.py\u001b[0m in \u001b[0;36m_do_run\u001b[0;34m(self, handle, target_list, fetch_list, feed_dict, options, run_metadata)\u001b[0m\n\u001b[1;32m   1130\u001b[0m     \u001b[0;32mif\u001b[0m \u001b[0mhandle\u001b[0m \u001b[0;32mis\u001b[0m \u001b[0;32mNone\u001b[0m\u001b[0;34m:\u001b[0m\u001b[0;34m\u001b[0m\u001b[0m\n\u001b[1;32m   1131\u001b[0m       return self._do_call(_run_fn, self._session, feed_dict, fetch_list,\n\u001b[0;32m-> 1132\u001b[0;31m                            target_list, options, run_metadata)\n\u001b[0m\u001b[1;32m   1133\u001b[0m     \u001b[0;32melse\u001b[0m\u001b[0;34m:\u001b[0m\u001b[0;34m\u001b[0m\u001b[0m\n\u001b[1;32m   1134\u001b[0m       return self._do_call(_prun_fn, self._session, handle, feed_dict,\n",
      "\u001b[0;32m/home/george/anaconda3/envs/tensorflow/lib/python3.5/site-packages/tensorflow/python/client/session.py\u001b[0m in \u001b[0;36m_do_call\u001b[0;34m(self, fn, *args)\u001b[0m\n\u001b[1;32m   1137\u001b[0m   \u001b[0;32mdef\u001b[0m \u001b[0m_do_call\u001b[0m\u001b[0;34m(\u001b[0m\u001b[0mself\u001b[0m\u001b[0;34m,\u001b[0m \u001b[0mfn\u001b[0m\u001b[0;34m,\u001b[0m \u001b[0;34m*\u001b[0m\u001b[0margs\u001b[0m\u001b[0;34m)\u001b[0m\u001b[0;34m:\u001b[0m\u001b[0;34m\u001b[0m\u001b[0m\n\u001b[1;32m   1138\u001b[0m     \u001b[0;32mtry\u001b[0m\u001b[0;34m:\u001b[0m\u001b[0;34m\u001b[0m\u001b[0m\n\u001b[0;32m-> 1139\u001b[0;31m       \u001b[0;32mreturn\u001b[0m \u001b[0mfn\u001b[0m\u001b[0;34m(\u001b[0m\u001b[0;34m*\u001b[0m\u001b[0margs\u001b[0m\u001b[0;34m)\u001b[0m\u001b[0;34m\u001b[0m\u001b[0m\n\u001b[0m\u001b[1;32m   1140\u001b[0m     \u001b[0;32mexcept\u001b[0m \u001b[0merrors\u001b[0m\u001b[0;34m.\u001b[0m\u001b[0mOpError\u001b[0m \u001b[0;32mas\u001b[0m \u001b[0me\u001b[0m\u001b[0;34m:\u001b[0m\u001b[0;34m\u001b[0m\u001b[0m\n\u001b[1;32m   1141\u001b[0m       \u001b[0mmessage\u001b[0m \u001b[0;34m=\u001b[0m \u001b[0mcompat\u001b[0m\u001b[0;34m.\u001b[0m\u001b[0mas_text\u001b[0m\u001b[0;34m(\u001b[0m\u001b[0me\u001b[0m\u001b[0;34m.\u001b[0m\u001b[0mmessage\u001b[0m\u001b[0;34m)\u001b[0m\u001b[0;34m\u001b[0m\u001b[0m\n",
      "\u001b[0;32m/home/george/anaconda3/envs/tensorflow/lib/python3.5/site-packages/tensorflow/python/client/session.py\u001b[0m in \u001b[0;36m_run_fn\u001b[0;34m(session, feed_dict, fetch_list, target_list, options, run_metadata)\u001b[0m\n\u001b[1;32m   1119\u001b[0m         return tf_session.TF_Run(session, options,\n\u001b[1;32m   1120\u001b[0m                                  \u001b[0mfeed_dict\u001b[0m\u001b[0;34m,\u001b[0m \u001b[0mfetch_list\u001b[0m\u001b[0;34m,\u001b[0m \u001b[0mtarget_list\u001b[0m\u001b[0;34m,\u001b[0m\u001b[0;34m\u001b[0m\u001b[0m\n\u001b[0;32m-> 1121\u001b[0;31m                                  status, run_metadata)\n\u001b[0m\u001b[1;32m   1122\u001b[0m \u001b[0;34m\u001b[0m\u001b[0m\n\u001b[1;32m   1123\u001b[0m     \u001b[0;32mdef\u001b[0m \u001b[0m_prun_fn\u001b[0m\u001b[0;34m(\u001b[0m\u001b[0msession\u001b[0m\u001b[0;34m,\u001b[0m \u001b[0mhandle\u001b[0m\u001b[0;34m,\u001b[0m \u001b[0mfeed_dict\u001b[0m\u001b[0;34m,\u001b[0m \u001b[0mfetch_list\u001b[0m\u001b[0;34m)\u001b[0m\u001b[0;34m:\u001b[0m\u001b[0;34m\u001b[0m\u001b[0m\n",
      "\u001b[0;31mKeyboardInterrupt\u001b[0m: "
     ]
    }
   ],
   "source": [
    "#model_lin.fit(X, y, epochs = 100)\n",
    "batch_size = 3\n",
    "y3D = track_y_3D(y.copy(), n = 10)\n",
    "model_lin.fit(X, y3D, epochs = 200, batch_size = batch_size, verbose = 1, shuffle=True)\n",
    "#model_lin.fit(X, y3D, epochs = 200, batch_size = batch_size, verbose = 1, shuffle=False)"
   ]
  },
  {
   "cell_type": "code",
   "execution_count": 85,
   "metadata": {},
   "outputs": [
    {
     "data": {
      "text/plain": [
       "(300, 10, 30)"
      ]
     },
     "execution_count": 85,
     "metadata": {},
     "output_type": "execute_result"
    }
   ],
   "source": [
    "fname_start = 'test_linear'\n",
    "file_no = 1\n",
    "Nblocks_test = 100\n",
    "linFlagV_test = np.ones((Nblocks_test,1))\n",
    "test_X, test_y_true = get_formated_dat(Npoints, Nblocks_test, N_mask, scales_bounds, linFlagV_test, dxn, dxn_overlap)\n",
    "#save_dat(DATA_PATH, fname_start, test_X,test_y_true, file_no)\n",
    "test_X.shape\n",
    "#pickle.dump?"
   ]
  },
  {
   "cell_type": "code",
   "execution_count": 86,
   "metadata": {},
   "outputs": [
    {
     "name": "stdout",
     "output_type": "stream",
     "text": [
      "(300, 10, 30) (300, 1) (1500, 10, 30)\n"
     ]
    }
   ],
   "source": [
    "#import pickle              # import module first\n",
    "\n",
    "#fname_test = DATA_PATH+'test_linear_X.npy'\n",
    "#test_X = np.load(fname)\n",
    "print(test_X.shape, Y_estim_test.shape, X.shape)\n"
   ]
  },
  {
   "cell_type": "code",
   "execution_count": 125,
   "metadata": {},
   "outputs": [],
   "source": [
    "train_X = X.copy()\n",
    "#test_X = X.copy()\n",
    "#test_y_true = y.copy()\n",
    "train_y_true = y.copy()\n",
    "\n",
    "Y_estim_train = model_lin.predict(train_X, batch_size = batch_size)\n",
    "Y_estim_test = model_lin.predict(test_X, batch_size = batch_size)\n"
   ]
  },
  {
   "cell_type": "code",
   "execution_count": 126,
   "metadata": {},
   "outputs": [],
   "source": [
    "Y_estim_train=Y_estim_train.sum(axis=1)/Y_estim_train.shape[1]\n",
    "Y_estim_test=Y_estim_test.sum(axis=1)/Y_estim_test.shape[1]\n",
    "#print(y[:5].transpose())\n",
    "#a.shape"
   ]
  },
  {
   "cell_type": "code",
   "execution_count": 127,
   "metadata": {
    "collapsed": true
   },
   "outputs": [],
   "source": [
    "#Y_estim_test[Y_estim_test == 0.5]=1\n",
    "Y_estim_test[Y_estim_test < 0.5]=0\n",
    "Y_estim_test[Y_estim_test >= 0.5]=1\n",
    "\n",
    "#Y_estim_train[Y_estim_train == 0.5]=1\n",
    "Y_estim_train[Y_estim_train < 0.5]=0\n",
    "Y_estim_train[Y_estim_train >= 0.5]=1"
   ]
  },
  {
   "cell_type": "code",
   "execution_count": 128,
   "metadata": {},
   "outputs": [
    {
     "name": "stdout",
     "output_type": "stream",
     "text": [
      "17.6666666667\n",
      "0.466666666667\n",
      "Pd   0.628571428571 True Pos:   71.0 Estim Pos:  70.0\n",
      "P_false_pos_rate   0.117391304348\n",
      "17.6666666667\n",
      "82.3333333333\n"
     ]
    }
   ],
   "source": [
    "print(np.sum(np.abs(test_y_true - Y_estim_test))/len(test_y_true[:,0])*100)\n",
    "print(np.sum(np.abs(train_y_true - Y_estim_train))/len(train_y_true[:,0])*100)\n",
    "#print(np.sum(np.abs(test_y_true - Y_estim_test[:,0,0]))/len(test_y_true[:,0])*100)\n",
    "#print(np.sum(np.abs(train_y_true - Y_estim_train[:,0,0]))/len(train_y_true[:,0])*100)\n",
    "roc_dat(Y_estim_test, test_y_true, 0.5)"
   ]
  },
  {
   "cell_type": "code",
   "execution_count": 129,
   "metadata": {},
   "outputs": [
    {
     "data": {
      "text/plain": [
       "[<matplotlib.lines.Line2D at 0x7fcfd7712588>]"
      ]
     },
     "execution_count": 129,
     "metadata": {},
     "output_type": "execute_result"
    },
    {
     "data": {
      "image/png": "[encoded data removed]",
      "text/plain": [
       "<matplotlib.figure.Figure at 0x7fcfd7797b38>"
      ]
     },
     "metadata": {},
     "output_type": "display_data"
    }
   ],
   "source": [
    "n1=0; n2 = 100#len(test_y_true)\n",
    "plt.figure(figsize=(15,5))\n",
    "plt.subplot(2,1,1)\n",
    "plt.plot(test_y_true[n1:n2,0],'r-o')\n",
    "plt.plot(Y_estim_test[n1:n2],'go--')\n",
    "plt.subplot(2,1,2)\n",
    "plt.plot(train_y_true[:100,0],'k-x')\n",
    "plt.plot(Y_estim_train[:100],'go-')"
   ]
  },
  {
   "cell_type": "code",
   "execution_count": 133,
   "metadata": {},
   "outputs": [
    {
     "data": {
      "text/plain": [
       "<matplotlib.text.Text at 0x7fcfd7226390>"
      ]
     },
     "execution_count": 133,
     "metadata": {},
     "output_type": "execute_result"
    },
    {
     "data": {
      "image/png": "[encoded data removed]",
      "text/plain": [
       "<matplotlib.figure.Figure at 0x7fcfd7760f98>"
      ]
     },
     "metadata": {},
     "output_type": "display_data"
    }
   ],
   "source": [
    "# y_plot = y_to_yplot(y, dxn)\n",
    "test_y_true_plot = y_to_yplot(test_y_true, dxn)\n",
    "test_y_estim_plot = y_to_yplot(Y_estim_test, dxn)\n",
    "\n",
    "y_plot =  y_to_yplot(train_y_true, dxn)\n",
    "train_y_estim_plot = y_to_yplot(Y_estim_train, dxn)\n",
    "\n",
    "fig=plt.figure(figsize=(16,20))\n",
    "cmap = colors.ListedColormap(['white','black'])\n",
    "#gs = gridspec.GridSpec(1, 2, width_ratios=[3, 1]) \n",
    "plt.subplot(4,1,1)\n",
    "plt.plot(y_plot[600:900],'o-');\n",
    "plt.plot(train_y_estim_plot[600:900],'ro-');\n",
    "plt.title('True y train subsample')\n",
    "plt.subplot(4,1,2)\n",
    "#ims = X[60:140,:,:].copy()\n",
    "ims = X[60:90,:,:].copy()\n",
    "im = np.reshape(ims, (ims.shape[0]*ims.shape[1],ims.shape[2]))\n",
    "plt.imshow(im.transpose(),origin='lower', cmap=cmap, interpolation = 'none',aspect='auto');\n",
    "plt.title('X train subsample')\n",
    "plt.xlabel('concatenated X column number')\n",
    "plt.ylabel('X row number')\n",
    "plt.subplot(4,1,3)\n",
    "plt.plot(test_y_true_plot[1000:1500],'o-');\n",
    "plt.plot(test_y_estim_plot[1000:1500],'ro-');\n",
    "plt.title('True y test subsample')\n",
    "plt.subplot(4,1,4)\n",
    "ims = test_X[100:150,:,:].copy()\n",
    "im = np.reshape(ims, (ims.shape[0]*ims.shape[1],ims.shape[2]))\n",
    "plt.imshow(im.transpose(),origin='lower', cmap=cmap, interpolation = 'none',aspect='auto');\n",
    "plt.title('X test subsample')\n",
    "plt.xlabel('concatenated X column number')\n",
    "plt.ylabel('X row number')"
   ]
  },
  {
   "cell_type": "code",
   "execution_count": 134,
   "metadata": {},
   "outputs": [
    {
     "data": {
      "text/plain": [
       "(3000, 10, 30)"
      ]
     },
     "execution_count": 134,
     "metadata": {},
     "output_type": "execute_result"
    }
   ],
   "source": [
    "X.shape"
   ]
  },
  {
   "cell_type": "code",
   "execution_count": 135,
   "metadata": {},
   "outputs": [
    {
     "name": "stdout",
     "output_type": "stream",
     "text": [
      "Saved model metadata to json format:  data/keras_3k_dat_linmodel.json\n",
      "Saved model to h5 format:  data/keras_3k_dat_linmodel.h5\n"
     ]
    }
   ],
   "source": [
    "model_name = DATA_PATH + 'keras_3k_dat_linmodel'\n",
    "save_current_keras_model_json_hdf5(model_lin, model_name)"
   ]
  },
  {
   "cell_type": "code",
   "execution_count": null,
   "metadata": {},
   "outputs": [],
   "source": [
    "dxx = 10\n",
    "start = [0,40]\n",
    "#dxx  = 20\n",
    "#start = [0,80]\n",
    "image_plot(X, start[0], dxx)\n",
    "# prints images 0 - 3\n",
    "image_plot(X, start[1], dxx)\n",
    "# prints images 4 - 7\n",
    "\n",
    "X.shape\n",
    "#plt.imshow(X[0,:,:])\n",
    "#plt.plot(y)"
   ]
  },
  {
   "cell_type": "code",
   "execution_count": null,
   "metadata": {},
   "outputs": [],
   "source": [
    "\n",
    "\n",
    "# spiral track constants\n",
    "theta_pi_scale = 5; N_sp = 300; r0 = 100;\n",
    "scSp = 1.2\n",
    "# linear track constants\n",
    "N_lin = 200\n",
    "a1 = 0.2;  b1 = 30 # respectively slope and bias\n",
    "a2 = -0.7; b2 = 50\n",
    "a3 = -0.4; b3 = 20\n",
    "a4 = 0.5; b4 = 40\n",
    "\n",
    "a5 = -0.15; b5 = 35\n",
    "a6 = 0.85; b6 = 5 #43\n",
    "\n",
    "\n",
    "\n",
    "\n",
    "    \n"
   ]
  },
  {
   "cell_type": "code",
   "execution_count": null,
   "metadata": {
    "collapsed": true
   },
   "outputs": [],
   "source": [
    "\n",
    "#print(np.random.randint(0,2,size=(2,2)))\n",
    "N_mask = 100\n",
    "mask1 = reduced_binary_noise_mask(N = N_mask)\n",
    "mask2 = reduced_binary_noise_mask(N = N_mask)\n",
    "mask3 = reduced_binary_noise_mask(N = N_mask)\n",
    "#ims1, y1 = get_3D_images_from_masked_dat(mask1, dxn = 10, dxn_overlap = 10)\n",
    "mask_val1 = mask1.reshape((N_mask*N_mask,1)).astype(int).flatten()\n",
    "mask_val2 = mask2.reshape((N_mask*N_mask,1)).astype(int).flatten()\n",
    "mask_val3 = mask3.reshape((N_mask*N_mask,1)).astype(int).flatten()"
   ]
  },
  {
   "cell_type": "code",
   "execution_count": null,
   "metadata": {
    "collapsed": true
   },
   "outputs": [],
   "source": []
  },
  {
   "cell_type": "code",
   "execution_count": null,
   "metadata": {},
   "outputs": [],
   "source": [
    "print(ims1.shape)\n",
    "np.alltrue(mask_val1 == mask_val2)"
   ]
  },
  {
   "cell_type": "code",
   "execution_count": null,
   "metadata": {},
   "outputs": [],
   "source": [
    "timesteps = 5 #10\n",
    "# spiral track constants\n",
    "theta_pi_scale = 5; N_sp = 300; r0 = 100;\n",
    "scSp = 1.2\n",
    "# linear track constants\n",
    "N_lin = 200\n",
    "a1 = 0.2;  b1 = 30 # respectively slope and bias\n",
    "a2 = -0.7; b2 = 50\n",
    "a3 = -0.4; b3 = 20\n",
    "a4 = 0.5; b4 = 40\n",
    "\n",
    "a5 = -0.15; b5 = 35\n",
    "a6 = 0.85; b6 = 5 #43\n",
    "\n",
    "dxn_overlap = 15\n",
    "dxn = 15\n",
    "seqlen = 2\n",
    "batch_size = 10\n",
    "\n",
    "xmin = 0; ymin = 0\n",
    "xmax = mask1.shape[0]; ymax = mask1.shape[1]\n",
    "\n",
    "dx = (xmax-xmin)/N_mask; dy = (ymax-ymin)/N_mask\n",
    "# create N x N grids\n",
    "xx_grid2D, yy_grid2D = greate_grid(xmin, xmax-1, dx, ymin, ymax-1, dy)\n",
    "xx_grid1D = xx_grid2D.reshape((N_mask*N_mask,1)).astype(int).flatten()\n",
    "yy_grid1D = yy_grid2D.reshape((N_mask*N_mask,1)).astype(int).flatten()\n",
    "\n",
    "y_sp1, x_sp1 = spiral(theta_pi_scale, N_sp, r0,xmax,xmin,ymax,ymin)\n",
    "x_sp2, y_sp2 = spiral(theta_pi_scale, N_sp, r0,xmax,xmin,ymax,ymin)\n",
    "y_sp3, x_sp3 = spiral(theta_pi_scale*scSp, N_sp, r0,xmax,xmin,ymax,ymin)\n",
    "x_sp4, y_sp4 = spiral(theta_pi_scale*scSp, N_sp, r0,xmax,xmin,ymax,ymin)\n",
    "#x_sp1 = x_sp1[:N_sp//9]\n",
    "#y_sp1 = y_sp1[:N_sp//9]\n",
    "#x_sp2 = x_sp2[:N_sp//9]\n",
    "#y_sp2 = y_sp2[:N_sp//9]\n",
    "\n",
    "x_lin1,y_lin1 = linline(xmin,xmax,N_lin, a1, b1)\n",
    "x_lin2,y_lin2 = linline(xmin,xmax,N_lin, a2, b2)\n",
    "x_lin3,y_lin3 = linline(xmin,xmax,N_lin, a3, b3)\n",
    "x_lin4,y_lin4 = linline(xmin,xmax,N_lin, a4, b4)\n",
    "x_lin5,y_lin5 = linline(xmin,xmax,N_lin, a5, b5)\n",
    "x_lin6,y_lin6 = linline(xmin,xmax,N_lin, a6, b6)\n",
    "\n",
    "\n",
    "x_lin_grid1, y_lin_grid1 = map_line_pattern2grid(x_lin1,y_lin1, dx, dy)\n",
    "x_lin_grid2, y_lin_grid2 = map_line_pattern2grid(x_lin2,y_lin2, dx, dy)\n",
    "x_lin_grid3, y_lin_grid3 = map_line_pattern2grid(x_lin3,y_lin3, dx, dy)\n",
    "x_lin_grid4, y_lin_grid4 = map_line_pattern2grid(x_lin4,y_lin4, dx, dy)\n",
    "x_lin_grid5, y_lin_grid5 = map_line_pattern2grid(x_lin5,y_lin5, dx, dy)\n",
    "x_lin_grid6, y_lin_grid6 = map_line_pattern2grid(x_lin6,y_lin6, dx, dy)\n",
    "\n",
    "\n",
    "\n",
    "x_sp_grid1, y_sp_grid1 = map_line_pattern2grid(x_sp1,y_sp1, dx, dy)\n",
    "x_sp_grid2, y_sp_grid2 = map_line_pattern2grid(x_sp2,y_sp2, dx, dy)\n",
    "x_sp_grid3, y_sp_grid3 = map_line_pattern2grid(x_sp3,y_sp3, dx, dy)\n",
    "x_sp_grid4, y_sp_grid4 = map_line_pattern2grid(x_sp4,y_sp4, dx, dy)\n",
    "\n",
    "dictIn1 = grid_dict(xx_grid1D, yy_grid1D, xx_grid1D, yy_grid1D, dictIn = {}, TargetID = 0, \n",
    "                   timesteps = 0, mask_val = mask_val1)\n",
    "dictIn2 = grid_dict(xx_grid1D, yy_grid1D, xx_grid1D, yy_grid1D, dictIn = {}, TargetID = 0, \n",
    "                   timesteps = 0, mask_val = mask_val2)\n",
    "dictIn3 = grid_dict(xx_grid1D, yy_grid1D, xx_grid1D, yy_grid1D, dictIn = {}, TargetID = 0, \n",
    "                   timesteps = 0, mask_val = mask_val3)\n",
    "\n",
    "dictIn_lin1 = grid_dict(x_lin1, y_lin1, x_lin_grid1, y_lin_grid1, dictIn = dictIn1.copy(), TargetID = 2, \n",
    "                   timesteps = timesteps, verb = 0, mask_val = [])\n",
    "dictIn_lin2 = grid_dict(x_lin2, y_lin2, x_lin_grid2, y_lin_grid2, dictIn = dictIn1.copy(), TargetID = 2, \n",
    "                   timesteps = timesteps, verb = 0, mask_val = [])\n",
    "dictIn_lin3 = grid_dict(x_lin3, y_lin3, x_lin_grid3, y_lin_grid3, dictIn = dictIn2.copy(), TargetID = 2, \n",
    "                   timesteps = timesteps, verb = 0, mask_val = [])\n",
    "dictIn_lin4 = grid_dict(x_lin4, y_lin4, x_lin_grid4, y_lin_grid4, dictIn = dictIn2.copy(), TargetID = 2, \n",
    "                   timesteps = timesteps, verb = 0, mask_val = [])\n",
    "\n",
    "\n",
    "dictIn_lin5 = grid_dict(x_lin5, y_lin5, x_lin_grid5, y_lin_grid5, dictIn = dictIn2.copy(), TargetID = 2, \n",
    "                   timesteps = timesteps, verb = 0, mask_val = [])\n",
    "dictIn_lin6 = grid_dict(x_lin6, y_lin6, x_lin_grid6, y_lin_grid6, dictIn = dictIn2.copy(), TargetID = 2, \n",
    "                   timesteps = timesteps, verb = 0, mask_val = [])\n",
    "\n",
    "dictIn_sp1 = grid_dict(x_sp1, y_sp1, x_sp_grid1, y_sp_grid1, dictIn = dictIn1.copy(), TargetID = 2, \n",
    "                   timesteps = timesteps, verb = 0, mask_val = [])\n",
    "dictIn_sp2 = grid_dict(x_sp2, y_sp2, x_sp_grid2, y_sp_grid2, dictIn = dictIn1.copy(), TargetID = 2, \n",
    "                   timesteps = timesteps, verb = 0, mask_val = [])\n",
    "dictIn_sp3 = grid_dict(x_sp3, y_sp3, x_sp_grid3, y_sp_grid3, dictIn = dictIn2.copy(), TargetID = 2, \n",
    "                   timesteps = timesteps, verb = 0, mask_val = [])\n",
    "dictIn_sp4 = grid_dict(x_sp4, y_sp4, x_sp_grid4, y_sp_grid4, dictIn = dictIn2.copy(), TargetID = 2, \n",
    "                   timesteps = timesteps, verb = 0, mask_val = [])"
   ]
  },
  {
   "cell_type": "code",
   "execution_count": null,
   "metadata": {},
   "outputs": [],
   "source": [
    "{}.copy()"
   ]
  },
  {
   "cell_type": "code",
   "execution_count": null,
   "metadata": {},
   "outputs": [],
   "source": [
    "plt.figure(figsize = (15,5))\n",
    "plt.subplot(1,2,1)\n",
    "plt.plot(x_lin_grid1,y_lin_grid1,'b-x')\n",
    "plt.plot(x_lin_grid2,y_lin_grid2,'b-o');\n",
    "plt.plot(x_sp_grid1,y_sp_grid1,'b-x');\n",
    "plt.plot(x_sp_grid2,y_sp_grid2,'b-o');\n",
    "plt.title('Training data')\n",
    "\n",
    "plt.subplot(1,2,2)\n",
    "\n",
    "plt.plot(x_lin_grid3,y_lin_grid3,'r-x');\n",
    "plt.plot(x_lin_grid4,y_lin_grid4,'r-o');\n",
    "plt.plot(x_lin_grid5,y_lin_grid5,'r-x');\n",
    "plt.plot(x_lin_grid6,y_lin_grid6,'r-o');\n",
    "\n",
    "plt.plot(x_sp_grid3,y_sp_grid3,'r-x');\n",
    "plt.plot(x_sp_grid4,y_sp_grid4,'r-o');\n",
    "plt.title('Test data')"
   ]
  },
  {
   "cell_type": "code",
   "execution_count": null,
   "metadata": {},
   "outputs": [],
   "source": [
    "xy_lin1 = get_all_data(dictIn_lin1, xx_grid2D.shape[0], xx_grid2D.shape[1], TargetID = -10)\n",
    "xy_sp1 = get_all_data(dictIn_sp1, xx_grid2D.shape[0], xx_grid2D.shape[1], TargetID = -10)\n",
    "xy_lin2 = get_all_data(dictIn_lin2, xx_grid2D.shape[0], xx_grid2D.shape[1], TargetID = -10)\n",
    "xy_sp2 = get_all_data(dictIn_sp2, xx_grid2D.shape[0], xx_grid2D.shape[1], TargetID = -10)\n",
    "\n",
    "xy_lin3 = get_all_data(dictIn_lin3, xx_grid2D.shape[0], xx_grid2D.shape[1], TargetID = -10)\n",
    "xy_sp3 = get_all_data(dictIn_sp3, xx_grid2D.shape[0], xx_grid2D.shape[1], TargetID = -10)\n",
    "xy_lin4 = get_all_data(dictIn_lin4, xx_grid2D.shape[0], xx_grid2D.shape[1], TargetID = -10)\n",
    "xy_sp4 = get_all_data(dictIn_sp4, xx_grid2D.shape[0], xx_grid2D.shape[1], TargetID = -10)\n",
    "\n",
    "xy_lin5 = get_all_data(dictIn_lin5, xx_grid2D.shape[0], xx_grid2D.shape[1], TargetID = -10)\n",
    "xy_lin6 = get_all_data(dictIn_lin6, xx_grid2D.shape[0], xx_grid2D.shape[1], TargetID = -10)\n",
    "\n",
    "mask_dat_lin1, noise_mask_dat_lin1, all_det_mask_dat_lin1 = get_mask_from_all_dat(xx_grid2D, xy_lin1)\n",
    "mask_dat_sp1, noise_mask_dat_sp1, all_det_mask_dat_sp1 = get_mask_from_all_dat(xx_grid2D, xy_sp1)\n",
    "\n",
    "mask_dat_lin2, noise_mask_dat_lin2, all_det_mask_dat_lin2 = get_mask_from_all_dat(xx_grid2D, xy_lin2)\n",
    "mask_dat_sp2, noise_mask_dat_sp2, all_det_mask_dat_sp2 = get_mask_from_all_dat(xx_grid2D, xy_sp2)\n",
    "\n",
    "mask_dat_lin3, noise_mask_dat_lin3, all_det_mask_dat_lin3 = get_mask_from_all_dat(xx_grid2D, xy_lin3)\n",
    "mask_dat_sp3, noise_mask_dat_sp3, all_det_mask_dat_sp3 = get_mask_from_all_dat(xx_grid2D, xy_sp3)\n",
    "\n",
    "mask_dat_lin4, noise_mask_dat_lin4, all_det_mask_dat_lin4 = get_mask_from_all_dat(xx_grid2D, xy_lin4)\n",
    "mask_dat_sp4, noise_mask_dat_sp4, all_det_mask_dat_sp4 = get_mask_from_all_dat(xx_grid2D, xy_sp4)\n",
    "\n",
    "mask_dat_lin5, noise_mask_dat_lin5, all_det_mask_dat_lin5 = get_mask_from_all_dat(xx_grid2D, xy_lin5)\n",
    "mask_dat_lin6, noise_mask_dat_lin6, all_det_mask_dat_lin6 = get_mask_from_all_dat(xx_grid2D, xy_lin6)\n"
   ]
  },
  {
   "cell_type": "code",
   "execution_count": null,
   "metadata": {
    "collapsed": true
   },
   "outputs": [],
   "source": [
    "def plot_train_data(noise_mask_dat_lin, mask_dat_lin, all_det_mask_dat_lin, \n",
    "                    noise_mask_dat_sp, mask_dat_sp, all_det_mask_dat_sp,xmin,xmax,ymin,ymax):\n",
    "    plt.figure(figsize=(15,10))\n",
    "    plt.subplot(2,3,1)\n",
    "    cmap = colors.ListedColormap(['white','black'])\n",
    "    plt.imshow(noise_mask_dat_lin,origin='lower', cmap=cmap, interpolation = 'none');\n",
    "    plt.xlim(xmin,xmax)\n",
    "    plt.ylim(ymin,ymax)\n",
    "    cmap = colors.ListedColormap(['white','black'])\n",
    "    plt.subplot(2,3,2)\n",
    "    plt.imshow(mask_dat_lin,origin='lower', cmap=cmap, interpolation = 'none');\n",
    "    plt.xlim(xmin,xmax)\n",
    "    plt.ylim(ymin,ymax)\n",
    "    plt.subplot(2,3,3)\n",
    "    plt.imshow(all_det_mask_dat_lin,origin='lower', cmap=cmap, interpolation = 'none');\n",
    "    plt.xlim(xmin,xmax)\n",
    "    plt.ylim(ymin,ymax)\n",
    "\n",
    "    plt.subplot(2,3,4)\n",
    "    cmap = colors.ListedColormap(['white','black'])\n",
    "    plt.imshow(noise_mask_dat_sp,origin='lower', cmap=cmap, interpolation = 'none');\n",
    "    plt.xlim(xmin,xmax)\n",
    "    plt.ylim(ymin,ymax)\n",
    "    cmap = colors.ListedColormap(['white','black'])\n",
    "    plt.subplot(2,3,5)\n",
    "    plt.imshow(mask_dat_sp,origin='lower', cmap=cmap, interpolation = 'none');\n",
    "    plt.xlim(xmin,xmax)\n",
    "    plt.ylim(ymin,ymax)\n",
    "    plt.subplot(2,3,6)\n",
    "    plt.imshow(all_det_mask_dat_sp,origin='lower', cmap=cmap, interpolation = 'none');\n",
    "    plt.xlim(xmin,xmax)\n",
    "    plt.ylim(ymin,ymax)"
   ]
  },
  {
   "cell_type": "code",
   "execution_count": null,
   "metadata": {},
   "outputs": [],
   "source": [
    "plot_train_data(noise_mask_dat_lin1, mask_dat_lin1, all_det_mask_dat_lin1, \n",
    "                    noise_mask_dat_sp1, mask_dat_sp1, all_det_mask_dat_sp1,xmin,xmax,ymin,ymax)"
   ]
  },
  {
   "cell_type": "code",
   "execution_count": null,
   "metadata": {},
   "outputs": [],
   "source": [
    "plot_train_data(noise_mask_dat_lin4, mask_dat_lin4, all_det_mask_dat_lin4, \n",
    "                    noise_mask_dat_sp4, mask_dat_sp4, all_det_mask_dat_sp4,xmin,xmax,ymin,ymax)"
   ]
  },
  {
   "cell_type": "markdown",
   "metadata": {},
   "source": [
    "im_noise_target_lin1, y_noise_target_lin1 = get_3D_images_from_masked_dat(all_det_mask_dat_lin1, dxn = dxn, dxn_overlap = dxn_overlap)\n",
    "im_noise_target_sp1, y_noise_target_sp1 = get_3D_images_from_masked_dat(all_det_mask_dat_sp1, dxn = dxn, dxn_overlap = dxn_overlap)\n",
    "\n",
    "im_noise_target_lin2, y_noise_target_lin2 = get_3D_images_from_masked_dat(all_det_mask_dat_lin2, dxn = dxn, dxn_overlap = dxn_overlap)\n",
    "im_noise_target_sp2, y_noise_target_sp2 = get_3D_images_from_masked_dat(all_det_mask_dat_sp2, dxn = dxn, dxn_overlap = dxn_overlap)\n",
    "\n",
    "im_noise_target_lin3, y_noise_target_lin3 = get_3D_images_from_masked_dat(all_det_mask_dat_lin3, dxn = dxn, dxn_overlap = dxn_overlap)\n",
    "im_noise_target_sp3, y_noise_target_sp3 = get_3D_images_from_masked_dat(all_det_mask_dat_sp3, dxn = dxn, dxn_overlap = dxn_overlap)\n",
    "\n",
    "im_noise_target_lin4, y_noise_target_lin4 = get_3D_images_from_masked_dat(all_det_mask_dat_lin4, dxn = dxn, dxn_overlap = dxn_overlap)\n",
    "im_noise_target_sp4, y_noise_target_sp4 = get_3D_images_from_masked_dat(all_det_mask_dat_sp4, dxn = dxn, dxn_overlap = dxn_overlap)\n",
    "\n",
    "\n",
    "im_noise1, y_noise1 = get_3D_images_from_masked_dat(mask1, dxn = dxn, dxn_overlap = dxn_overlap)\n",
    "im_noise2, y_noise2 = get_3D_images_from_masked_dat(mask2, dxn = dxn, dxn_overlap = dxn_overlap)\n",
    "im_noise3, y_noise3 = get_3D_images_from_masked_dat(mask3, dxn = dxn, dxn_overlap = dxn_overlap)\n"
   ]
  },
  {
   "cell_type": "code",
   "execution_count": null,
   "metadata": {},
   "outputs": [],
   "source": [
    "im_noise_target_lin1, y_noise_target_lin1, im_noise1, y_noise1 = get_mapped_dat(mask1, \n",
    "                                                                              all_det_mask_dat_lin1, dxn, dxn_overlap)\n",
    "im_noise_target_lin2, y_noise_target_lin2, _, _ = get_mapped_dat(mask1, \n",
    "                                                                              all_det_mask_dat_lin2, dxn, dxn_overlap)\n",
    "im_noise_target_lin3, y_noise_target_lin3, im_noise2, y_noise2 = get_mapped_dat(mask2, \n",
    "                                                                              all_det_mask_dat_lin3, dxn, dxn_overlap)\n",
    "im_noise_target_lin4, y_noise_target_lin4, _, _ = get_mapped_dat(mask2, \n",
    "                                                                              all_det_mask_dat_lin4, dxn, dxn_overlap)\n",
    "\n",
    "im_noise_target_lin5, y_noise_target_lin5, _, _ = get_mapped_dat(mask2, \n",
    "                                                                              all_det_mask_dat_lin5, dxn, dxn_overlap)\n",
    "im_noise_target_lin6, y_noise_target_lin6, _, _ = get_mapped_dat(mask2, \n",
    "                                                                              all_det_mask_dat_lin6, dxn, dxn_overlap)\n",
    "\n",
    "\n",
    "im_noise_target_sp1, y_noise_target_sp1, _, _ = get_mapped_dat(mask1, \n",
    "                                                                              all_det_mask_dat_sp1, dxn, dxn_overlap)\n",
    "im_noise_target_sp2, y_noise_target_sp2, _, _ = get_mapped_dat(mask1, \n",
    "                                                                              all_det_mask_dat_sp2, dxn, dxn_overlap)\n",
    "im_noise_target_sp3, y_noise_target_sp3, im_noise2, y_noise2 = get_mapped_dat(mask2, \n",
    "                                                                              all_det_mask_dat_sp3, dxn, dxn_overlap)\n",
    "im_noise_target_sp4, y_noise_target_sp4, _, _ = get_mapped_dat(mask2, \n",
    "                                                                              all_det_mask_dat_sp4, dxn, dxn_overlap)\n",
    "\n",
    "im_noise3, y_noise3 = get_3D_images_from_masked_dat(mask3, dxn = dxn, dxn_overlap = dxn_overlap)"
   ]
  },
  {
   "cell_type": "code",
   "execution_count": null,
   "metadata": {},
   "outputs": [],
   "source": [
    "print(mask1.sum(), mask2.sum(), mask3.sum())\n",
    "plt.plot(mask1.sum(axis=0))\n",
    "plt.plot(mask2.sum(axis=0))\n",
    "plt.plot(mask3.sum(axis=0))"
   ]
  },
  {
   "cell_type": "code",
   "execution_count": null,
   "metadata": {},
   "outputs": [],
   "source": [
    "from matplotlib import gridspec\n",
    "fig=plt.figure(figsize=(15,12))\n",
    "#gs = gridspec.GridSpec(1, 2, width_ratios=[3, 1]) \n",
    "cmap = colors.ListedColormap(['white','black'])\n",
    "plt.subplot(2,2,1)\n",
    "ims = im_noise_target_sp1.copy()\n",
    "im = np.reshape(ims, (ims.shape[0]*ims.shape[1],ims.shape[2]))\n",
    "plt.imshow(im.transpose(),origin='lower', cmap=cmap, interpolation = 'none',aspect='auto')\n",
    "plt.subplot(2,2,2)\n",
    "ims = im_noise_target_sp2.copy()\n",
    "im = np.reshape(ims, (ims.shape[0]*ims.shape[1],ims.shape[2]))\n",
    "plt.imshow(im.transpose(),origin='lower', cmap=cmap, interpolation = 'none',aspect='auto')\n",
    "\n",
    "plt.subplot(2,2,3)\n",
    "ims = im_noise_target_sp3.copy()\n",
    "im = np.reshape(ims, (ims.shape[0]*ims.shape[1],ims.shape[2]))\n",
    "plt.imshow(im.transpose(),origin='lower', cmap=cmap, interpolation = 'none',aspect='auto')\n",
    "plt.subplot(2,2,4)\n",
    "ims = im_noise_target_sp4.copy()\n",
    "im = np.reshape(ims, (ims.shape[0]*ims.shape[1],ims.shape[2]))\n",
    "plt.imshow(im.transpose(),origin='lower', cmap=cmap, interpolation = 'none',aspect='auto')"
   ]
  },
  {
   "cell_type": "code",
   "execution_count": null,
   "metadata": {
    "collapsed": true
   },
   "outputs": [],
   "source": [
    "train_X = np.vstack((im_noise_target_lin1,im_noise1,im_noise_target_lin2,im_noise1, \n",
    "                         im_noise_target_lin3,im_noise2, im_noise_target_lin4,im_noise2,\n",
    "                    im_noise_target_sp1,im_noise2, im_noise_target_sp2, im_noise2))\n",
    "\n",
    "train_X_noise = np.vstack((im_noise1, im_noise1, im_noise1, im_noise1,\n",
    "                           im_noise2, im_noise2, im_noise2, im_noise2, \n",
    "                           im_noise2, im_noise2, im_noise2, im_noise2))\n",
    "\n",
    "train_y_noise = np.vstack((y_noise1, y_noise1, y_noise1, y_noise1,\n",
    "                           y_noise2, y_noise2, y_noise2, y_noise2, \n",
    "                           y_noise2, y_noise2, y_noise2, y_noise2))\n"
   ]
  },
  {
   "cell_type": "code",
   "execution_count": null,
   "metadata": {},
   "outputs": [],
   "source": [
    "\n",
    "n1 = len(im_noise1)\n",
    "n2 = len(im_noise2)\n",
    "n3 = len(im_noise3)\n",
    "zeros1 = np.zeros((n1,1))\n",
    "zeros2 = np.zeros((n2,1))\n",
    "zeros3 = np.zeros((n3,1))\n",
    "ones1 = np.ones((n1,1))\n",
    "ones2 = np.ones((n1,1))\n",
    "ones3 = np.ones((n2,1))\n",
    "ones4 = np.ones((n2,1))\n",
    "\n",
    "train_y_true = np.vstack((ones1,zeros1,ones2,zeros1,\n",
    "                             ones3,zeros2,ones4, zeros2,\n",
    "                         ones1, zeros2,ones2, zeros2))\n",
    "\n",
    "\n",
    "#test_X = np.vstack((im_noise3, im_noise_target_lin3,im_noise3, im_noise_target_lin4,\n",
    "#                       im_noise3, im_noise_target_sp3,im_noise3, im_noise_target_sp4))\n",
    "\n",
    "#test_X = np.vstack((im_noise3, im_noise_target_lin3,im_noise3, im_noise_target_lin4,\n",
    "#                       im_noise3, im_noise_target_lin5,im_noise3, im_noise_target_lin6))\n",
    "\n",
    "test_X = np.vstack((im_noise2, im_noise_target_lin3,im_noise2, im_noise_target_lin4,\n",
    "                       im_noise2, im_noise_target_lin5,im_noise2, im_noise_target_lin6))\n",
    "\n",
    "test_X_noise = np.vstack((im_noise3, im_noise3,im_noise3, im_noise3,\n",
    "                       im_noise3,im_noise3, im_noise3, im_noise3))\n",
    "test_y_noise = np.vstack((y_noise3, y_noise3, y_noise3, y_noise3,\n",
    "                           y_noise3, y_noise3, y_noise3, y_noise3))\n",
    "\n",
    "#test_y_true = np.vstack((y_noise3, y_noise_target_lin3,y_noise3,y_noise_target_lin4,\n",
    "#                             y_noise3, y_noise_target_sp3, y_noise3,y_noise_target_sp4))\n",
    "test_y_true = np.vstack((zeros3,ones3,zeros3,ones4,\n",
    "                             zeros3,ones3, zeros3,ones4))\n",
    "\n",
    "\n",
    "\n",
    "simple_sum_check = False\n",
    "if simple_sum_check:\n",
    "    test_y_true = np.vstack((y_noise3, y_noise_target_lin3,y_noise3,y_noise_target_lin4,\n",
    "                             y_noise3, y_noise_target_lin3, y_noise3,y_noise_target_lin4))\n",
    "    train_y_true = np.vstack((y_noise_target_lin1,y_noise1,y_noise_target_lin2,y_noise1,\n",
    "                             y_noise_target_lin3,y_noise2,y_noise_target_lin4, y_noise2,\n",
    "                         y_noise_target_sp1, y_noise2,y_noise_target_sp2, y_noise2))\n",
    "    for i in range(len(train_y_true)):\n",
    "        if train_y_true[i] > train_y_noise[i]:\n",
    "            train_y_true[i] = 1\n",
    "        else:\n",
    "            train_y_true[i] = 0\n",
    "\n",
    "    for i in range(len(test_y_true)):\n",
    "        if test_y_true[i] > test_y_noise[i]:\n",
    "            test_y_true[i] = 1\n",
    "        else:\n",
    "            test_y_true[i] = 0\n",
    "\n",
    "print(train_y_true.shape)"
   ]
  },
  {
   "cell_type": "code",
   "execution_count": null,
   "metadata": {},
   "outputs": [],
   "source": [
    "plt.figure(figsize=(16,5))\n",
    "plt.subplot(1,2,1)\n",
    "plt.plot(train_y_true,'b-o')\n",
    "#plt.plot(test_y_true_lin,'r-o')\n",
    "plt.subplot(1,2,2)\n",
    "plt.plot(test_y_true,'b-o')\n",
    "#plt.plot(test_y_true_sp,'r-o')\n",
    "\n",
    "#plt.plot(y_noise_target)\n",
    "#plt.plot(y_noise,'r-x')\n",
    "print(train_X.shape, train_X_noise.shape) #, y_true_lin1.shape, batch_size)"
   ]
  },
  {
   "cell_type": "code",
   "execution_count": null,
   "metadata": {
    "collapsed": true
   },
   "outputs": [],
   "source": [
    "#im_noise3, y_noise3 = get_3D_images_from_masked_dat(mask3, dxn = dxn, dxn_overlap = dxn_overlap)\n",
    "#print(im_noise1.shape, im_noise2.shape, im_noise3.shape)\n",
    "#test_X_lin = np.vstack((im_noise3, im_noise_target_lin3,im_noise3, im_noise_target_lin4))\n",
    "#test_X_noise = np.vstack((im_noise3, im_noise3, im_noise3, im_noise3))\n",
    "#train_X_noise = np.vstack((train_X_noise,test_X_noise))\n",
    "#test_X_noise = np.vstack((test_X_noise,test_X_noise))\n",
    "\n",
    "#train_X_lin = np.vstack((train_X_lin,train_X_sp))\n",
    "#test_X_lin = np.vstack((test_X_lin,test_X_sp))"
   ]
  },
  {
   "cell_type": "code",
   "execution_count": null,
   "metadata": {
    "collapsed": true
   },
   "outputs": [],
   "source": [
    "#print(im_noise_target_lin.shape,im_noise.shape)"
   ]
  },
  {
   "cell_type": "code",
   "execution_count": null,
   "metadata": {},
   "outputs": [],
   "source": [
    "# https://matplotlib.org/users/gridspec.html\n",
    "#cmap = colors.ListedColormap(['white','black','red','green','blue','yellow','magenta'])\n",
    "#gs = gridspec.GridSpec(1, 2, width_ratios=[3, 1]) \n",
    "fig=plt.figure(figsize=(20,6))\n",
    "\n",
    "#ax1 = plt.subplot2grid((2, 2), (1, 0), colspan=1)\n",
    "#ax3 = plt.subplot2grid((3, 3), (1, 2), rowspan=2)\n",
    "#ax0 = plt.subplot(gs[0])\n",
    "\n",
    "cmap = colors.ListedColormap(['white','black'])\n",
    "#plt.imshow(np.reshape(train_X[30,:],(101,10)),origin='lower', cmap=cmap, interpolation = 'none');\n",
    "plt.subplot(1,6,1)\n",
    "plt.imshow(train_X[0,:,:].transpose(),origin='lower', cmap=cmap, interpolation = 'none',aspect='auto');\n",
    "plt.subplot(1,6,2)\n",
    "plt.imshow(train_X[1,:,:].transpose(),origin='lower', cmap=cmap, interpolation = 'none',aspect='auto');\n",
    "plt.subplot(1,6,3)\n",
    "plt.imshow(train_X[2,:,:].transpose(),origin='lower', cmap=cmap, interpolation = 'none',aspect='auto');\n",
    "\n",
    "\n",
    "#fig.add_subplot(ax1);"
   ]
  },
  {
   "cell_type": "code",
   "execution_count": null,
   "metadata": {},
   "outputs": [],
   "source": [
    "#ims, y_noise_target = get_3D_images_from_masked_dat(all_det_mask_dat, dxn = 10, dxn_overlap = 10)\n",
    "from matplotlib import gridspec\n",
    "fig=plt.figure(figsize=(15,8))\n",
    "#gs = gridspec.GridSpec(1, 2, width_ratios=[3, 1]) \n",
    "\n",
    "plt.subplot(2,1,1)\n",
    "cmap = colors.ListedColormap(['white','black'])\n",
    "ims = train_X.copy()\n",
    "im = np.reshape(ims, (ims.shape[0]*ims.shape[1],ims.shape[2]))\n",
    "plt.imshow(im.transpose(),origin='lower', cmap=cmap, interpolation = 'none',aspect='auto');\n",
    "\n",
    "plt.subplot(2,1,2)\n",
    "ims = test_X.copy()\n",
    "im = np.reshape(ims, (ims.shape[0]*ims.shape[1],ims.shape[2]))\n",
    "plt.imshow(im.transpose(),origin='lower', cmap=cmap, interpolation = 'none',aspect='auto');\n"
   ]
  },
  {
   "cell_type": "code",
   "execution_count": null,
   "metadata": {
    "collapsed": true
   },
   "outputs": [],
   "source": [
    "\n",
    "y_true1 = track_y_3D(train_y_true.copy(), n = seqlen)\n",
    "y_test1 = track_y_3D(test_y_true.copy(), n = seqlen)\n",
    "\n",
    "#y_true_sp1 = track_y_3D(train_y_true_sp.copy(), n = seqlen)\n",
    "#y_test_true_sp1 = track_y_3D(test_y_true_sp.copy(), n = seqlen)\n"
   ]
  },
  {
   "cell_type": "code",
   "execution_count": null,
   "metadata": {
    "collapsed": true
   },
   "outputs": [],
   "source": [
    "from keras.layers.core import Dense, Activation, RepeatVector\n",
    "from keras.layers.recurrent import LSTM\n",
    "from keras.layers.wrappers import TimeDistributed\n",
    "from keras import optimizers\n"
   ]
  },
  {
   "cell_type": "code",
   "execution_count": null,
   "metadata": {},
   "outputs": [],
   "source": [
    "# batch_size =  2\n",
    "print(train_X.shape, batch_size, seqlen)\n"
   ]
  },
  {
   "cell_type": "code",
   "execution_count": null,
   "metadata": {},
   "outputs": [],
   "source": [
    "input_shape = (train_X.shape[1],train_X.shape[2])\n",
    "print('Build model...')\n",
    "hidden_size = 16\n",
    "K.reset_uids()\n",
    "K.clear_session()\n",
    "model_lin = Sequential()\n",
    "#model.add(Masking(mask_value=0))\n",
    "model_lin.add(LSTM(input_shape=input_shape, output_dim=hidden_size, return_sequences=False))\n",
    "model_lin.add(Dense(hidden_size))\n",
    "model_lin.add(Activation('relu'))\n",
    "#model_lin.add(RepeatVector(seqlen))\n",
    "#model_lin.add(LSTM(hidden_size, return_sequences=True))\n",
    "#model_lin.add(LSTM(hidden_size))\n",
    "model_lin.add(Dense(output_dim=1, activation=\"linear\"))\n",
    "#model_lin.add(TimeDistributedDense(output_dim=input_dim, activation=\"linear\"))\n",
    "#model_lin.add(TimeDistributed(Dense(output_dim=1, activation=\"linear\")))"
   ]
  },
  {
   "cell_type": "code",
   "execution_count": null,
   "metadata": {},
   "outputs": [],
   "source": [
    "#\n",
    "x = np.array([i for i in range(0,30,10)])\n",
    "x_ind = np.array([i for i in range(len(x))])\n",
    "rand_int = np.random.choice(x_ind, size=len(x),replace=False)\n",
    "print(rand_int, np.sort(rand_int))\n",
    "y = x[rand_int]\n",
    "print(x, y[rand_int])\n",
    "#train_X.shape, train_y_true.shape"
   ]
  },
  {
   "cell_type": "code",
   "execution_count": null,
   "metadata": {},
   "outputs": [],
   "source": [
    "input_shape = (train_X.shape[1],train_X.shape[2])\n",
    "#seqlen = 3\n",
    "#hidden_size = 40#8 #6# 12//3 #16\n",
    "hidden_size = [10, 12, 6]\n",
    "print('Build model...')\n",
    "K.reset_uids()\n",
    "K.clear_session()\n",
    "model_lin = Sequential()\n",
    "\n",
    "model_lin.add(LSTM(input_shape=input_shape, output_dim=hidden_size[0], return_sequences=False))\n",
    "model_lin.add(Dense(hidden_size[1]))\n",
    "model_lin.add(Activation('relu'))\n",
    "#model_lin.add(LSTM(input_shape=input_shape, output_dim=hidden_size, return_sequences=False, \n",
    "#                   batch_input_shape=(batch_size, input_shape[0], input_shape[1])))\n",
    "\n",
    "\n",
    "#model_lin.add(RepeatVector(seqlen))\n",
    "#model_lin.add(LSTM(output_dim=hidden_size, return_sequences=False))\n",
    "#model_lin.add(Dense(hidden_size))\n",
    "#model_lin.add(Activation('relu'))\n",
    "\n",
    "#model_lin.add(RepeatVector(seqlen))\n",
    "#model_lin.add(LSTM(hidden_size[2]))\n",
    "#model_lin.add(LSTM(hidden_size[2], return_sequences=True))\n",
    "#model_lin.add(LSTM(hidden_size, return_sequences=True, stateful=True))\n",
    "model_lin.add(Dense(output_dim=1, activation=\"relu\"))\n",
    "\n",
    "#model_lin.add(TimeDistributed(Dense(output_dim=1, activation=\"relu\")))\n",
    "#model_lin.add(TimeDistributed(Dense(output_dim=1, activation=\"linear\")))\n",
    "\n",
    "#optimizer = optimizers.rmsprop(lr=0.01, clipnorm=3)\n",
    "#model_lin.compile(optimizer=optimizer, loss='mse')\n",
    "\n",
    "\n",
    "#model.compile(loss=\"mean_squared_error\", optimizer=\"rmsprop\")\n"
   ]
  },
  {
   "cell_type": "code",
   "execution_count": null,
   "metadata": {},
   "outputs": [],
   "source": [
    "model_lin.summary()"
   ]
  },
  {
   "cell_type": "code",
   "execution_count": null,
   "metadata": {
    "collapsed": true
   },
   "outputs": [],
   "source": [
    "optimizer = optimizers.rmsprop(lr=0.01, clipnorm=2)\n",
    "model_lin.compile(optimizer=optimizer, loss='mse')"
   ]
  },
  {
   "cell_type": "code",
   "execution_count": null,
   "metadata": {},
   "outputs": [],
   "source": [
    "train_y_true.shape"
   ]
  },
  {
   "cell_type": "code",
   "execution_count": null,
   "metadata": {},
   "outputs": [],
   "source": [
    "#model_lin.fit(train_X, y_true1, epochs = 500)\n",
    "#rand_int_train = np.random.choice([i for i in range(train_X.shape[0])], train_X.shape[0])\n",
    "#model_lin.fit(train_X[rand_int_train,:,:], train_y_true[rand_int_train,:], epochs = 1500)\n",
    "model_lin.fit(train_X, train_y_true, epochs = 1500)\n"
   ]
  },
  {
   "cell_type": "code",
   "execution_count": null,
   "metadata": {},
   "outputs": [],
   "source": [
    "\n",
    "model_lin.fit(train_X, y_true1, epochs = 500, \n",
    "                 batch_size = batch_size, verbose = 1, shuffle=True)"
   ]
  },
  {
   "cell_type": "code",
   "execution_count": null,
   "metadata": {},
   "outputs": [],
   "source": [
    "#rand_int_train = np.random.choice([i for i in range(train_X.shape[0])], size=len(range_int))\n",
    "\n",
    "Y_estim_train = model_lin.predict(train_X, batch_size = batch_size)\n",
    "Y_estim_test = model_lin.predict(test_X, batch_size = batch_size)\n",
    "#Y_estim_train = Y_estim_train[rand_int_train]"
   ]
  },
  {
   "cell_type": "code",
   "execution_count": null,
   "metadata": {},
   "outputs": [],
   "source": [
    "print(np.sum(np.abs(test_y_true - Y_estim_test))/len(test_y_true[:,0])*100)\n",
    "print(np.sum(np.abs(train_y_true - Y_estim_train))/len(train_y_true[:,0])*100)\n",
    "plt.figure(figsize=(15,5))\n",
    "plt.subplot(2,1,1)\n",
    "plt.plot(test_y_true[:,0],'k-x')\n",
    "plt.plot(Y_estim_test,'go-')\n",
    "plt.subplot(2,1,2)\n",
    "plt.plot(train_y_true[:,0],'k-x')\n",
    "plt.plot(Y_estim_train,'go-')"
   ]
  },
  {
   "cell_type": "code",
   "execution_count": null,
   "metadata": {},
   "outputs": [],
   "source": [
    "print(np.sum(np.abs(test_y_true[:,0] - Y_estim_test[:,0,0]))/len(test_y_true[:,0])*100)\n",
    "print(np.sum(np.abs(train_y_true[:,0] - Y_estim_train[:,0,0]))/len(train_y_true[:,0])*100)\n",
    "plt.figure(figsize=(15,5))\n",
    "plt.subplot(2,1,1)\n",
    "plt.plot(test_y_true[:,0],'k-x')\n",
    "plt.plot(Y_estim_test[:,0,0],'go-')\n",
    "plt.subplot(2,1,2)\n",
    "plt.plot(train_y_true[:,0],'k-x')\n",
    "plt.plot(Y_estim_train[:,0,0],'go-')"
   ]
  },
  {
   "cell_type": "code",
   "execution_count": null,
   "metadata": {},
   "outputs": [],
   "source": [
    "DATA_PATH = 'saved_models/'\n",
    "model_name = DATA_PATH + 'keras_lstm_TimeDistributed_2'\n",
    "\n",
    "save_current_keras_model_json_hdf5(model_lin, model_name)\n",
    "#loaded_model = load_keras_model(model_name)\n",
    "#optimizer = optimizers.rmsprop(lr=0.01, clipnorm=10)\n",
    "#loaded_model.compile(optimizer=optimizer, loss='mse')\n",
    "#Y_estim_test = loaded_model.predict(test_X, batch_size = batch_size)"
   ]
  },
  {
   "cell_type": "markdown",
   "metadata": {},
   "source": [
    "# test results are sensitive not only to track shape but also to noise\n",
    "# HERE IS THE END"
   ]
  },
  {
   "cell_type": "code",
   "execution_count": null,
   "metadata": {
    "collapsed": true
   },
   "outputs": [],
   "source": [
    "model = Sequential()  \n",
    "model.add(LSTM(100, input_shape=(1, 100),return_sequences=True))\n",
    "model.add(Dense(100))\n",
    "model.compile(loss='mean_absolute_error', optimizer='adam',metrics=['accuracy'])\n",
    "model.fit(data, target, nb_epoch=10000, batch_size=1, verbose=2,validation_data=(x_test, y_test))\n"
   ]
  },
  {
   "cell_type": "code",
   "execution_count": null,
   "metadata": {},
   "outputs": [],
   "source": [
    "#hidden_size = 6 #16\n",
    "print('Build model...')\n",
    "model_noise = Sequential()\n",
    "\n",
    "model_noise.add(LSTM(input_shape=input_shape, output_dim=hidden_size, return_sequences=False))\n",
    "model_noise.add(Dense(hidden_size))\n",
    "model_noise.add(Activation('relu'))\n",
    "#model_lin.add(LSTM(input_shape=input_shape, output_dim=hidden_size, return_sequences=False, \n",
    "#                   batch_input_shape=(batch_size, input_shape[0], input_shape[1])))\n",
    "\n",
    "\n",
    "#model_noise.add(RepeatVector(seqlen))\n",
    "#model_noise.add(LSTM(output_dim=hidden_size, return_sequences=False))\n",
    "#model_noise.add(Dense(hidden_size))\n",
    "#model_noise.add(Activation('relu'))\n",
    "\n",
    "model_noise.add(RepeatVector(seqlen))\n",
    "model_noise.add(LSTM(hidden_size, return_sequences=True))\n",
    "#model_lin.add(LSTM(hidden_size, return_sequences=True, stateful=True))\n",
    "model_noise.add(TimeDistributed(Dense(output_dim=1, activation=\"relu\")))\n",
    "#model_noise.add(TimeDistributed(Dense(output_dim=1, activation=\"linear\")))\n"
   ]
  },
  {
   "cell_type": "code",
   "execution_count": null,
   "metadata": {},
   "outputs": [],
   "source": [
    "model_noise.summary()"
   ]
  },
  {
   "cell_type": "code",
   "execution_count": null,
   "metadata": {},
   "outputs": [],
   "source": [
    "model_merged = Sequential()\n",
    "model_merged.add(Merge([model_lin, model_noise], mode = 'concat'))\n",
    "model_merged.add(Dense(1, init = 'normal', activation = 'relu'))\n",
    "#model_merged.add(Dense(1, init = 'normal', activation = 'sigmoid'))\n",
    "\n",
    "optimizer = optimizers.rmsprop(lr=0.01, clipnorm=10)\n",
    "model_merged.compile(optimizer=optimizer, loss='mse')\n",
    "\n",
    "#sgd = SGD(lr = 0.1, momentum = 0.9, decay = 0, nesterov = False, clipnorm=10)\n",
    "#model_merged.compile(loss = 'binary_crossentropy', optimizer = sgd, metrics = ['accuracy'])\n",
    "#seed(2017)"
   ]
  },
  {
   "cell_type": "code",
   "execution_count": null,
   "metadata": {},
   "outputs": [],
   "source": [
    "model_merged.summary()"
   ]
  },
  {
   "cell_type": "code",
   "execution_count": null,
   "metadata": {},
   "outputs": [],
   "source": [
    "print(train_X.shape, train_X_noise.shape, y_true1.shape, batch_size)"
   ]
  },
  {
   "cell_type": "code",
   "execution_count": null,
   "metadata": {},
   "outputs": [],
   "source": [
    "#model_merged.fit([X1, X2], Y.values, batch_size = 2000, nb_epoch = 100, verbose = 1)\n",
    "model_merged.fit([train_X, train_X_noise], y_true1, epochs = 500, \n",
    "                 batch_size = batch_size, verbose = 1, shuffle=True)"
   ]
  },
  {
   "cell_type": "code",
   "execution_count": null,
   "metadata": {},
   "outputs": [],
   "source": [
    "\n",
    "print(train_X.shape, y_true1.shape, batch_size, seqlen)"
   ]
  },
  {
   "cell_type": "code",
   "execution_count": null,
   "metadata": {
    "collapsed": true
   },
   "outputs": [],
   "source": [
    "Y_estim_train = model_merged.predict([train_X, train_X_noise], batch_size = batch_size)\n",
    "Y_estim_test = model_merged.predict([test_X, test_X_noise], batch_size = batch_size)\n",
    "\n",
    "#Y_estim_lin = model_lin.predict(train_X_lin, batch_size = batch_size)\n",
    "#Y_estim_test_lin = model_lin.predict(test_X_lin, batch_size = batch_size)\n",
    "\n",
    "#Y_estim_lin = model_lin.predict(train_X_sp, batch_size = batch_size)\n",
    "#Y_estim_test_lin = model_lin.predict(test_X_sp, batch_size = batch_size)"
   ]
  },
  {
   "cell_type": "code",
   "execution_count": null,
   "metadata": {},
   "outputs": [],
   "source": [
    "#save_current_keras_model_json_hdf5(model, model_name)\n",
    "print(np.sum(np.abs(test_y_true[:,0] - Y_estim_test[:,0,0]))/len(test_y_true[:,0])*100)\n",
    "print(np.sum(np.abs(train_y_true[:,0] - Y_estim_train[:,0,0]))/len(train_y_true[:,0])*100)\n",
    "plt.figure(figsize=(15,5))\n",
    "plt.subplot(2,1,1)\n",
    "plt.plot(test_y_true[:,0],'k-x')\n",
    "plt.plot(Y_estim_test[:,0,0],'go-')\n",
    "plt.subplot(2,1,2)\n",
    "plt.plot(train_y_true[:,0],'k-x')\n",
    "plt.plot(Y_estim_train[:,0,0],'go-')\n"
   ]
  },
  {
   "cell_type": "code",
   "execution_count": null,
   "metadata": {
    "collapsed": true
   },
   "outputs": [],
   "source": [
    "input_shape = (train_X_sp.shape[1],train_X_sp.shape[2])\n",
    "#seqlen = 2#3\n",
    "hidden_size = 16\n",
    "print('Build model...')\n",
    "#K.reset_uids()\n",
    "#K.clear_session()\n",
    "model_sp = Sequential()\n",
    "model_sp.add(LSTM(input_shape=input_shape, output_dim=hidden_size, return_sequences=False))\n",
    "model_sp.add(Dense(hidden_size))\n",
    "model_sp.add(Activation('relu'))\n",
    "model_sp.add(Dense(hidden_size))\n",
    "model_sp.add(Activation('relu'))\n",
    "model_sp.add(RepeatVector(seqlen))\n",
    "model_sp.add(LSTM(hidden_size, return_sequences=True))\n",
    "model_sp.add(TimeDistributed(Dense(output_dim=1, activation=\"linear\")))\n",
    "\n",
    "#optimizer = optimizers.rmsprop(lr=0.01, clipnorm=10)\n",
    "optimizer = optimizers.rmsprop(lr=0.01, clipnorm=2)\n",
    "model_sp.compile(optimizer=optimizer, loss='mse')"
   ]
  },
  {
   "cell_type": "code",
   "execution_count": null,
   "metadata": {
    "collapsed": true
   },
   "outputs": [],
   "source": [
    "model_sp.summary()"
   ]
  },
  {
   "cell_type": "code",
   "execution_count": null,
   "metadata": {
    "collapsed": true
   },
   "outputs": [],
   "source": [
    "# batch_size = 4\n",
    "model_lin.fit(train_X_lin, y_true_lin1, epochs = 500, batch_size = batch_size, verbose = 1)"
   ]
  },
  {
   "cell_type": "code",
   "execution_count": null,
   "metadata": {
    "collapsed": true
   },
   "outputs": [],
   "source": [
    "model_sp.fit(train_X_sp, y_true_sp1, epochs = 100, batch_size = batch_size, verbose = 1)"
   ]
  },
  {
   "cell_type": "code",
   "execution_count": null,
   "metadata": {
    "collapsed": true
   },
   "outputs": [],
   "source": [
    "Y_estim_sp = model_sp.predict(train_X_sp, batch_size = batch_size)\n",
    "Y_estim_test_sp = model_sp.predict(test_X_sp, batch_size = batch_size)\n",
    "\n",
    "#Y_estim_sp = model_sp.predict(train_X_lin, batch_size = batch_size)\n",
    "#Y_estim_test_sp = model_sp.predict(test_X_lin, batch_size = batch_size)"
   ]
  },
  {
   "cell_type": "code",
   "execution_count": null,
   "metadata": {
    "collapsed": true
   },
   "outputs": [],
   "source": [
    "#model_name = DATA_PATH + 'keras_lstm_TimeDistributed_1'"
   ]
  },
  {
   "cell_type": "code",
   "execution_count": null,
   "metadata": {
    "collapsed": true
   },
   "outputs": [],
   "source": [
    "#print(Y_estim_lin.shape, test_X_lin.shape)\n",
    "plt.figure(figsize=(15,5))\n",
    "plt.subplot(2,2,1)\n",
    "plt.plot(train_y_true_lin[:,0],'r-x')\n",
    "plt.plot(Y_estim_lin[:,0,0],'bo-')\n",
    "plt.title('Linear train')\n",
    "plt.subplot(2,2,2)\n",
    "plt.plot(test_y_true_lin[:,0],'k-x')\n",
    "plt.plot(Y_estim_test_lin[:,0,0],'go-')\n",
    "plt.title('Linear test')\n",
    "plt.subplot(2,2,3)\n",
    "plt.plot(Y_estim_sp[:,0,0],'bo-')\n",
    "plt.plot(train_y_true_sp[:,0],'r-x')\n",
    "plt.title('Spiral train')\n",
    "plt.subplot(2,2,4)\n",
    "plt.plot(Y_estim_test_sp[:,0,0],'go-')\n",
    "plt.plot(test_y_true_sp[:,0],'k-x')\n",
    "plt.title('Spiral test')"
   ]
  },
  {
   "cell_type": "code",
   "execution_count": null,
   "metadata": {
    "collapsed": true
   },
   "outputs": [],
   "source": [
    "model_name = DATA_PATH + 'keras_lstm_TimeDistributed_2'\n",
    "save_current_keras_model_json_hdf5(model, model_name)\n",
    "loaded_model = load_keras_model(model_name)\n",
    "optimizer = optimizers.rmsprop(lr=0.01, clipnorm=10)\n",
    "loaded_model.compile(optimizer=optimizer, loss='mse')\n",
    "Y_estim_test = loaded_model.predict(test_X, batch_size = batch_size)"
   ]
  },
  {
   "cell_type": "code",
   "execution_count": null,
   "metadata": {
    "collapsed": true
   },
   "outputs": [],
   "source": [
    "loaded_model = load_keras_model(model_name)"
   ]
  },
  {
   "cell_type": "code",
   "execution_count": null,
   "metadata": {
    "collapsed": true
   },
   "outputs": [],
   "source": [
    "# Important years in Veevalaja\n",
    "# 12, 22, 24, 32, 42, 48, 50, 64, 72\n",
    "optimizer = optimizers.rmsprop(lr=0.01, clipnorm=10)\n",
    "loaded_model.compile(optimizer=optimizer, loss='mse')"
   ]
  },
  {
   "cell_type": "code",
   "execution_count": null,
   "metadata": {
    "collapsed": true
   },
   "outputs": [],
   "source": [
    "batch_size = 3\n",
    "Y_estim_test = loaded_model.predict(test_X, batch_size = batch_size)"
   ]
  },
  {
   "cell_type": "code",
   "execution_count": null,
   "metadata": {
    "collapsed": true
   },
   "outputs": [],
   "source": [
    "#plt.plot(Y_estim[:,2,0],'b')\n",
    "#plt.plot(y_true[:,0],'r-x')\n",
    "plt.plot(Y_estim_test[:,0],'g')\n",
    "plt.plot(y_test_true[:,0],'k-x')"
   ]
  },
  {
   "cell_type": "markdown",
   "metadata": {},
   "source": [
    "Positive\tTrue Positive (TP)\ta\t  \tFalse Positive (FP)\tc\t \ta + c\n",
    "Negative\tFalse Negative (FN)\tb \t  \tTrue Negative (TN)\td\t  \tb + d\n",
    "Total\t \ta + b\t \t  \tc + d \n",
    "\n",
    "Sensitivity:\ta/(a + b)\n",
    "Specificity: \td/(c + d)"
   ]
  },
  {
   "cell_type": "code",
   "execution_count": null,
   "metadata": {
    "collapsed": true
   },
   "outputs": [],
   "source": [
    "#train_X2, train_Y2 = get3DTrainingData(N=900,A = -1*0.35,b = 1*0.1, NL = 0.1, timesteps = 5)\n",
    "#X_mixed_test, Y_mixed_test = get3DTrainingDataMixed(train_X1, 4, mode = 3)\n",
    "#X_mixed_test, Y_mixed_test = get3DTrainingDataMixed(train_X2, 4, mode = 3, win_len = 2*5, num_blocks = 90)\n",
    "# X_mixed_test1\n",
    "estim_Y = model3.predict([train_X1, X_mixed_test1], batch_size= 30)\n",
    "\n",
    "a_1 = np.zeros(estim_Y.shape[0])\n",
    "a_2 = np.zeros(estim_Y.shape[0])\n",
    "\n",
    "a = np.zeros(estim_Y.shape[0])\n",
    "b = np.zeros(estim_Y.shape[0])\n",
    "c = np.zeros(estim_Y.shape[0])\n",
    "d =  np.zeros(estim_Y.shape[0])\n",
    "\n",
    "for i in range(len(a)):\n",
    "    if estim_Y[i,0,0] > 0.5:\n",
    "        a_2[i] = 1\n",
    "    if Y_mixed_test1[i,0,0] > 0.5:\n",
    "        a_1[i] = 1\n",
    "    \n",
    "    if estim_Y[i,0,0] > 0.5 and Y_mixed_test1[i,0,0] > 0.5:\n",
    "        a[i] = 1 # true positive\n",
    "    if estim_Y[i,0,0] < 0.5 and Y_mixed_test1[i,0,0] > 0.5:\n",
    "        b[i] = 1 # false negative\n",
    "    if estim_Y[i,0,0] > 0.5 and Y_mixed_test1[i,0,0] < 0.5:\n",
    "        c[i] = 1 # false positive\n",
    "    if estim_Y[i,0,0] < 0.5 and Y_mixed_test1[i,0,0] < 0.5:\n",
    "        d[i] = 1 # true negative\n",
    "        \n",
    "print(estim_Y.shape)\n",
    "print(train_X1.shape)\n",
    "print('Pd  ' ,sum(a)/(sum(a)+sum(b)), 'True Pos:  ', sum(a_2), 'Estim Pos: ', sum(a_1))\n",
    "print('Pfalse_pos_rate  ',  1 - sum(d)/(sum(c)+sum(d)))\n",
    "\n",
    "\n",
    "res1 = 1 - np.abs(np.sum(np.round(Y_mixed_test1[:,0,0]) - np.round(estim_Y[:,0,0]))/estim_Y.shape[0])\n",
    "res2 = 1 - np.abs(np.sum(np.round(Y_mixed_test1[:,1,0]) - np.round(estim_Y[:,1,0]))/estim_Y.shape[0])\n",
    "print(res1*100)\n",
    "print(res2*100)\n",
    "\n",
    "#plt.plot(estim_Y[:,1,0]-estim_Y[:,0,0],'rx')\n",
    "plt.plot(Y_mixed_test1[:,0,0],'bo')\n",
    "#plt.plot(np.round(estim_Y[:,1,0]),'rx')\n",
    "plt.plot(np.round(estim_Y[:,0,0]),'gx')\n",
    "#plt.plot(estim_Y[:,0,:],estim_Y[:,1,:],'go');\n",
    "#plt.plot(Y_mixed1[:,0,:],Y_mixed1[:,1,:],'rx');\n",
    "#plt.plot(estim_Y[:,:,0],train_Y[:,:,0],'go')\n",
    "#train_Y"
   ]
  },
  {
   "cell_type": "code",
   "execution_count": null,
   "metadata": {
    "collapsed": true
   },
   "outputs": [],
   "source": [
    "plt.plot(train_X[:,:,0],train_X[:,:,1],'x')\n",
    "plt.plot(estim_Y[:,:,0],estim_Y[:,:,1],'go')\n",
    "#plt.plot(train_Y1[:,0],train_Y1[:,1],'ro')"
   ]
  },
  {
   "cell_type": "code",
   "execution_count": null,
   "metadata": {
    "collapsed": true
   },
   "outputs": [],
   "source": [
    "# generate dummy training data\n",
    "x_train = np.random.random((1000, timesteps, data_dim))\n",
    "y_train = np.random.random((1000, nb_classes))\n",
    "\n",
    "# generate dummy validation data\n",
    "x_val = np.random.random((100, timesteps, data_dim))\n",
    "y_val = np.random.random((100, nb_classes))\n",
    "\n",
    "model.fit(x_train, y_train,\n",
    "          batch_size=64, nb_epoch=5,\n",
    "          validation_data=(x_val, y_val))"
   ]
  },
  {
   "cell_type": "code",
   "execution_count": null,
   "metadata": {
    "collapsed": true
   },
   "outputs": [],
   "source": [
    "# -*- coding: utf-8 -*-\n",
    "\n",
    "\n",
    "import numpy as np\n",
    "\n",
    "from keras.models import Sequential\n",
    "from keras.layers import Dense\n",
    "from keras.layers import LSTM\n",
    "\n",
    "\n",
    "data = [[i for i in range(100)]]\n",
    "data = np.array(data, dtype=float)\n",
    "target = [[i for i in range(1,101)]]\n",
    "target = np.array(target, dtype=float)\n",
    "\n",
    "data = data.reshape((1, 1, 100)) \n",
    "target = target.reshape((1, 1, 100)) \n",
    "x_test=[i for i in range(100,200)]\n",
    "x_test=np.array(x_test).reshape((1,1,100));\n",
    "y_test=[i for i in range(101,201)]\n",
    "y_test=np.array(y_test).reshape(1,1,100)\n",
    "\n",
    "\n",
    "model = Sequential()  \n",
    "model.add(LSTM(100, input_shape=(1, 100),return_sequences=True))\n",
    "model.add(Dense(100))\n",
    "model.compile(loss='mean_absolute_error', optimizer='adam',metrics=['accuracy'])\n",
    "model.fit(data, target, nb_epoch=10000, batch_size=1, verbose=2,validation_data=(x_test, y_test))\n",
    "\n",
    "\n",
    "\n",
    "predict = model.predict(data)"
   ]
  },
  {
   "cell_type": "code",
   "execution_count": null,
   "metadata": {
    "collapsed": true
   },
   "outputs": [],
   "source": [
    "import keras\n",
    "print(keras.__version__)"
   ]
  },
  {
   "cell_type": "code",
   "execution_count": null,
   "metadata": {
    "collapsed": true
   },
   "outputs": [],
   "source": [
    "from keras.models import Sequential\n",
    "from keras.layers import Dense\n",
    "import numpy\n",
    "# fix random seed for reproducibility\n",
    "seed = 7\n",
    "numpy.random.seed(seed)\n",
    "# load pima indians dataset\n",
    "dataset = numpy.loadtxt(\"pima-indians-diabetes.csv\", delimiter=\",\")\n",
    "# split into input (X) and output (Y) variables\n",
    "X = dataset[:,0:8]\n",
    "Y = dataset[:,8]\n",
    "# create model\n",
    "model = Sequential()\n",
    "model.add(Dense(12, input_dim=8, kernel_initializer ='uniform', activation='relu'))\n",
    "model.add(Dense(8, kernel_initializer ='uniform', activation='relu'))\n",
    "model.add(Dense(1, kernel_initializer ='uniform', activation='sigmoid'))\n",
    "# Compile model\n",
    "model.compile(loss='binary_crossentropy', optimizer='adam', metrics=['accuracy'])\n",
    "# Fit the model\n",
    "model.fit(X, Y, epochs=10, batch_size=10)\n",
    "# evaluate the model\n",
    "scores = model.evaluate(X, Y)\n",
    "print(\"%s: %.2f%%\" % (model.metrics_names[1], scores[1]*100))"
   ]
  }
 ],
 "metadata": {
  "anaconda-cloud": {},
  "kernelspec": {
   "display_name": "Python [conda env:tensorflow]",
   "language": "python",
   "name": "conda-env-tensorflow-py"
  },
  "language_info": {
   "codemirror_mode": {
    "name": "ipython",
    "version": 3
   },
   "file_extension": ".py",
   "mimetype": "text/x-python",
   "name": "python",
   "nbconvert_exporter": "python",
   "pygments_lexer": "ipython3",
   "version": "3.5.2"
  }
 },
 "nbformat": 4,
 "nbformat_minor": 2
}
